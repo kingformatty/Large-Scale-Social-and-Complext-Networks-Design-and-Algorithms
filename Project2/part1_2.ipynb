{
 "cells": [
  {
   "cell_type": "code",
   "execution_count": 1,
   "metadata": {},
   "outputs": [],
   "source": [
    "from sklearn.decomposition import TruncatedSVD\n",
    "from sklearn.decomposition import NMF\n",
    "from sklearn.datasets import fetch_20newsgroups\n",
    "from sklearn.feature_extraction.text import CountVectorizer\n",
    "from sklearn.feature_extraction.text import TfidfTransformer\n",
    "from sklearn.cluster import KMeans\n",
    "from sklearn.metrics.cluster import contingency_matrix\n",
    "import matplotlib.pyplot as plt\n",
    "import numpy as np\n",
    "from sklearn import metrics\n",
    "\n",
    "com_class = ['comp.graphics', 'comp.os.ms-windows.misc', 'comp.sys.ibm.pc.hardware', 'comp.sys.mac.hardware']\n",
    "rec_class = ['rec.autos', 'rec.motorcycles', 'rec.sport.baseball', 'rec.sport.hockey']\n",
    "all_class = com_class + rec_class"
   ]
  },
  {
   "cell_type": "code",
   "execution_count": 2,
   "metadata": {},
   "outputs": [],
   "source": [
    "exclude_sign = \"~#$%^&*()[]{}<>|+=1234567890\"\n",
    "replace_sign = \"@,.?!-;\""
   ]
  },
  {
   "cell_type": "code",
   "execution_count": 3,
   "metadata": {},
   "outputs": [],
   "source": [
    "def preprocessing(data):\n",
    "    ans = []\n",
    "    for i in range(len(data)):\n",
    "        sentence = data[i]\n",
    "        for c in exclude_sign:\n",
    "            sentence = sentence.replace(c, \"\")\n",
    "        for c in replace_sign:\n",
    "            sentence = sentence.replace(c, \" \")\n",
    "        ans.append(sentence)\n",
    "    return ans"
   ]
  },
  {
   "cell_type": "code",
   "execution_count": 4,
   "metadata": {},
   "outputs": [],
   "source": [
    "def plot_contingency_matrix(cm, x_labels, y_labels, title, cmap = plt.cm.BuPu):\n",
    "    plt.figure(figsize=(12,9))\n",
    "    plt.imshow(cm, interpolation='nearest', cmap=cmap)\n",
    "    \n",
    "    plt.title(title, fontsize = 22)\n",
    "    plt.colorbar()\n",
    "    xlocations = np.array(range(len(x_labels)))\n",
    "    plt.xticks(xlocations, x_labels, fontsize = 14)\n",
    "    plt.yticks(xlocations, y_labels, fontsize = 14)\n",
    "    tick_array = np.arange(len(x_labels))\n",
    "    x, y = np.meshgrid(tick_array, tick_array)\n",
    "    for i, j in zip(x.flatten(), y.flatten()):\n",
    "        plt.text(j, i, cm[i][j], ha = \"center\", va = \"center\", color = \"black\", fontsize = 24)\n",
    "    plt.ylabel('Classes', fontsize = 18)\n",
    "    plt.xlabel('Clusters', fontsize = 18)\n",
    "    fig = plt.gcf()\n",
    "    plt.show()\n",
    "    fig.savefig(str(cm[0][0]) + '.png', dpi=300, bbox_inches = 'tight')"
   ]
  },
  {
   "cell_type": "code",
   "execution_count": 5,
   "metadata": {},
   "outputs": [],
   "source": [
    "all_data = fetch_20newsgroups(subset='all', categories=all_class, shuffle=True, random_state=42)\n",
    "# 1 represent \"recreational activity\", 0 represent \"computer classes\"\n",
    "Y = [0] * len(all_data.target)\n",
    "for i in range(len(Y)):\n",
    "    if all_data.target[i] >= 4:\n",
    "        Y[i] = 1\n"
   ]
  },
  {
   "cell_type": "code",
   "execution_count": 6,
   "metadata": {},
   "outputs": [
    {
     "name": "stdout",
     "output_type": "stream",
     "text": [
      "(7882, 23825)\n"
     ]
    }
   ],
   "source": [
    "trim_all_data = preprocessing(all_data.data)\n",
    "count_vectorizer = CountVectorizer(min_df=3, stop_words='english')\n",
    "tfidf_transformer = TfidfTransformer()\n",
    "\n",
    "X_count = count_vectorizer.fit_transform(trim_all_data)\n",
    "X_tfidf = tfidf_transformer.fit_transform(X_count)\n",
    "print (X_tfidf.shape)"
   ]
  },
  {
   "cell_type": "code",
   "execution_count": 7,
   "metadata": {},
   "outputs": [
    {
     "ename": "KeyboardInterrupt",
     "evalue": "",
     "output_type": "error",
     "traceback": [
      "\u001b[1;31m---------------------------------------------------------------------------\u001b[0m",
      "\u001b[1;31mKeyboardInterrupt\u001b[0m                         Traceback (most recent call last)",
      "\u001b[1;32m<ipython-input-7-1f53d85dafdb>\u001b[0m in \u001b[0;36m<module>\u001b[1;34m()\u001b[0m\n\u001b[0;32m      1\u001b[0m \u001b[0mkmeans\u001b[0m \u001b[1;33m=\u001b[0m \u001b[0mKMeans\u001b[0m\u001b[1;33m(\u001b[0m\u001b[0mn_clusters\u001b[0m\u001b[1;33m=\u001b[0m\u001b[1;36m2\u001b[0m\u001b[1;33m,\u001b[0m \u001b[0mmax_iter\u001b[0m \u001b[1;33m=\u001b[0m \u001b[1;36m1000\u001b[0m\u001b[1;33m,\u001b[0m \u001b[0mn_init\u001b[0m \u001b[1;33m=\u001b[0m \u001b[1;36m30\u001b[0m\u001b[1;33m,\u001b[0m \u001b[0mrandom_state\u001b[0m\u001b[1;33m=\u001b[0m\u001b[1;36m0\u001b[0m\u001b[1;33m)\u001b[0m\u001b[1;33m\u001b[0m\u001b[0m\n\u001b[1;32m----> 2\u001b[1;33m \u001b[0mkmeans\u001b[0m\u001b[1;33m.\u001b[0m\u001b[0mfit\u001b[0m\u001b[1;33m(\u001b[0m\u001b[0mX_tfidf\u001b[0m\u001b[1;33m)\u001b[0m\u001b[1;33m\u001b[0m\u001b[0m\n\u001b[0m",
      "\u001b[1;32mD:\\Softwares\\Anaconda\\lib\\site-packages\\sklearn\\cluster\\_kmeans.py\u001b[0m in \u001b[0;36mfit\u001b[1;34m(self, X, y, sample_weight)\u001b[0m\n\u001b[0;32m    935\u001b[0m                     \u001b[0mmax_iter\u001b[0m\u001b[1;33m=\u001b[0m\u001b[0mself\u001b[0m\u001b[1;33m.\u001b[0m\u001b[0mmax_iter\u001b[0m\u001b[1;33m,\u001b[0m \u001b[0minit\u001b[0m\u001b[1;33m=\u001b[0m\u001b[0minit\u001b[0m\u001b[1;33m,\u001b[0m \u001b[0mverbose\u001b[0m\u001b[1;33m=\u001b[0m\u001b[0mself\u001b[0m\u001b[1;33m.\u001b[0m\u001b[0mverbose\u001b[0m\u001b[1;33m,\u001b[0m\u001b[1;33m\u001b[0m\u001b[0m\n\u001b[0;32m    936\u001b[0m                     \u001b[0mprecompute_distances\u001b[0m\u001b[1;33m=\u001b[0m\u001b[0mprecompute_distances\u001b[0m\u001b[1;33m,\u001b[0m \u001b[0mtol\u001b[0m\u001b[1;33m=\u001b[0m\u001b[0mtol\u001b[0m\u001b[1;33m,\u001b[0m\u001b[1;33m\u001b[0m\u001b[0m\n\u001b[1;32m--> 937\u001b[1;33m                     x_squared_norms=x_squared_norms, random_state=seed)\n\u001b[0m\u001b[0;32m    938\u001b[0m                 \u001b[1;31m# determine if these results are the best so far\u001b[0m\u001b[1;33m\u001b[0m\u001b[1;33m\u001b[0m\u001b[0m\n\u001b[0;32m    939\u001b[0m                 \u001b[1;32mif\u001b[0m \u001b[0mbest_inertia\u001b[0m \u001b[1;32mis\u001b[0m \u001b[1;32mNone\u001b[0m \u001b[1;32mor\u001b[0m \u001b[0minertia\u001b[0m \u001b[1;33m<\u001b[0m \u001b[0mbest_inertia\u001b[0m\u001b[1;33m:\u001b[0m\u001b[1;33m\u001b[0m\u001b[0m\n",
      "\u001b[1;32mD:\\Softwares\\Anaconda\\lib\\site-packages\\sklearn\\cluster\\_kmeans.py\u001b[0m in \u001b[0;36m_kmeans_single_lloyd\u001b[1;34m(X, sample_weight, n_clusters, max_iter, init, verbose, x_squared_norms, random_state, tol, precompute_distances)\u001b[0m\n\u001b[0;32m    427\u001b[0m         \u001b[1;32mif\u001b[0m \u001b[0msp\u001b[0m\u001b[1;33m.\u001b[0m\u001b[0missparse\u001b[0m\u001b[1;33m(\u001b[0m\u001b[0mX\u001b[0m\u001b[1;33m)\u001b[0m\u001b[1;33m:\u001b[0m\u001b[1;33m\u001b[0m\u001b[0m\n\u001b[0;32m    428\u001b[0m             centers = _k_means._centers_sparse(X, sample_weight, labels,\n\u001b[1;32m--> 429\u001b[1;33m                                                n_clusters, distances)\n\u001b[0m\u001b[0;32m    430\u001b[0m         \u001b[1;32melse\u001b[0m\u001b[1;33m:\u001b[0m\u001b[1;33m\u001b[0m\u001b[0m\n\u001b[0;32m    431\u001b[0m             centers = _k_means._centers_dense(X, sample_weight, labels,\n",
      "\u001b[1;31mKeyboardInterrupt\u001b[0m: "
     ]
    }
   ],
   "source": [
    "kmeans = KMeans(n_clusters=2, max_iter = 1000, n_init = 30, random_state=0)\n",
    "kmeans.fit(X_tfidf)\n"
   ]
  },
  {
   "cell_type": "code",
   "execution_count": null,
   "metadata": {},
   "outputs": [],
   "source": [
    "contingency = contingency_matrix(Y, kmeans.labels_)"
   ]
  },
  {
   "cell_type": "code",
   "execution_count": 9,
   "metadata": {},
   "outputs": [
    {
     "data": {
      "image/png": "[encoded data removed]",
      "text/plain": [
       "<Figure size 864x648 with 2 Axes>"
      ]
     },
     "metadata": {},
     "output_type": "display_data"
    }
   ],
   "source": [
    "classes = [\"Class 1\", \"Class 2\"]\n",
    "clusters = [\"Cluster 1\", \"Cluster 2\"]\n",
    "plot_contingency_matrix(contingency, clusters, classes, \"contingency matrix\")"
   ]
  },
  {
   "cell_type": "code",
   "execution_count": 10,
   "metadata": {},
   "outputs": [
    {
     "name": "stdout",
     "output_type": "stream",
     "text": [
      "Homogeneity: 0.2567150164397567\n",
      "Completeness: 0.3371769065937147\n",
      "V-measure: 0.29149537739860254\n",
      "Adjusted Rand Score: 0.1844496330900049\n",
      "Adjusted Mutual Info Score: 0.291421716295594\n"
     ]
    }
   ],
   "source": [
    "print(\"Five metrics about the K-means cluster: \")\n",
    "print('Homogeneity:', metrics.homogeneity_score(Y, kmeans.labels_))\n",
    "print('Completeness:', metrics.completeness_score(Y, kmeans.labels_))\n",
    "print('V-measure:', metrics.v_measure_score(Y, kmeans.labels_))\n",
    "print('Adjusted Rand Score:', metrics.adjusted_rand_score(Y, kmeans.labels_))\n",
    "print('Adjusted Mutual Info Score:', metrics.adjusted_mutual_info_score(Y, kmeans.labels_))"
   ]
  },
  {
   "cell_type": "code",
   "execution_count": 8,
   "metadata": {},
   "outputs": [],
   "source": [
    "n = 1000"
   ]
  },
  {
   "cell_type": "code",
   "execution_count": 9,
   "metadata": {},
   "outputs": [],
   "source": [
    "svd = TruncatedSVD(n_components=n, n_iter=10, random_state=42)"
   ]
  },
  {
   "cell_type": "code",
   "execution_count": 10,
   "metadata": {},
   "outputs": [
    {
     "data": {
      "text/plain": [
       "TruncatedSVD(algorithm='randomized', n_components=1000, n_iter=10,\n",
       "             random_state=42, tol=0.0)"
      ]
     },
     "execution_count": 10,
     "metadata": {},
     "output_type": "execute_result"
    }
   ],
   "source": [
    "svd.fit(X_tfidf)"
   ]
  },
  {
   "cell_type": "code",
   "execution_count": 14,
   "metadata": {},
   "outputs": [
    {
     "name": "stdout",
     "output_type": "stream",
     "text": [
      "[0.00130696 0.00548051 0.0038301  0.00376488 0.00336715 0.00271022\n",
      " 0.0025956  0.00250716 0.00242575 0.00230138 0.00224299 0.00218105\n",
      " 0.00213836 0.00204596 0.00204346 0.0019881  0.00198234 0.00192682\n",
      " 0.00190034 0.00185085 0.00181039 0.00177674 0.00176438 0.00174005\n",
      " 0.00171552 0.0016944  0.00166972 0.00163276 0.00161862 0.00160689\n",
      " 0.00158855 0.00157443 0.0015612  0.00154667 0.001528   0.00150852\n",
      " 0.00150177 0.0014947  0.00148358 0.00145234 0.00143866 0.00143375\n",
      " 0.00142259 0.00140863 0.00139207 0.00138566 0.00137816 0.00137567\n",
      " 0.00135894 0.00134298 0.00134012 0.00132024 0.00130254 0.00129887\n",
      " 0.00129557 0.00128724 0.0012786  0.0012766  0.00127078 0.00125671\n",
      " 0.00124837 0.00123808 0.00123474 0.00123033 0.00121966 0.00121737\n",
      " 0.00119553 0.00118935 0.0011873  0.00118152 0.00116989 0.00116644\n",
      " 0.00116032 0.00115647 0.00114981 0.00114564 0.00113785 0.00113076\n",
      " 0.00112635 0.00111456 0.00111268 0.00110921 0.00110353 0.0011005\n",
      " 0.00109389 0.00109092 0.00107897 0.00107843 0.00107388 0.00106464\n",
      " 0.0010626  0.00105748 0.00105325 0.00104703 0.0010408  0.00103862\n",
      " 0.00103157 0.0010283  0.00102807 0.00102176 0.00101484 0.0010095\n",
      " 0.00100542 0.00100139 0.0009959  0.00099279 0.00098987 0.00098499\n",
      " 0.00097766 0.00097505 0.00097154 0.00096777 0.00096634 0.00096032\n",
      " 0.00095873 0.00095371 0.00095127 0.00094812 0.00094414 0.00094228\n",
      " 0.00093921 0.0009339  0.00093066 0.00092957 0.0009265  0.00092383\n",
      " 0.00092073 0.00091678 0.00091414 0.00091174 0.00090545 0.00090468\n",
      " 0.00090112 0.00090021 0.00089451 0.00089152 0.00089014 0.00088764\n",
      " 0.00088545 0.00088279 0.0008789  0.00087663 0.00087169 0.00087025\n",
      " 0.00086633 0.00086607 0.00086152 0.00085968 0.00085641 0.00085251\n",
      " 0.00085109 0.00084891 0.00084662 0.00084445 0.00083993 0.0008389\n",
      " 0.00083374 0.00083318 0.00082852 0.00082573 0.00082436 0.00082364\n",
      " 0.00082    0.00081952 0.0008153  0.00081348 0.0008094  0.00080873\n",
      " 0.0008061  0.00080504 0.00080205 0.00079893 0.00079603 0.00079391\n",
      " 0.0007922  0.00079197 0.00078997 0.00078366 0.0007829  0.00078078\n",
      " 0.00077922 0.00077629 0.00077455 0.00077192 0.00077071 0.00076694\n",
      " 0.00076621 0.00076464 0.00076268 0.00075686 0.00075598 0.00075413\n",
      " 0.0007509  0.0007498  0.00074756 0.00074501 0.00074375 0.00074282\n",
      " 0.00074195 0.0007401  0.00073722 0.00073483 0.00073265 0.00073239\n",
      " 0.00073081 0.00072865 0.00072654 0.00072355 0.00072181 0.00072015\n",
      " 0.00071729 0.00071529 0.00071515 0.00071419 0.00071102 0.00071035\n",
      " 0.00070979 0.00070665 0.00070433 0.00070307 0.00069995 0.00069944\n",
      " 0.00069804 0.00069573 0.00069432 0.00069245 0.00069112 0.00068989\n",
      " 0.00068761 0.00068645 0.00068558 0.00068399 0.000682   0.00068103\n",
      " 0.00067954 0.00067844 0.00067641 0.00067534 0.00067462 0.00067334\n",
      " 0.00067001 0.00066902 0.00066791 0.00066437 0.00066315 0.0006627\n",
      " 0.00066049 0.00065995 0.000659   0.0006582  0.00065673 0.00065487\n",
      " 0.00065357 0.00065262 0.00065184 0.00065102 0.00064961 0.00064697\n",
      " 0.00064509 0.00064402 0.00064307 0.00064205 0.00063946 0.00063873\n",
      " 0.00063687 0.00063607 0.00063568 0.0006341  0.00063269 0.00063102\n",
      " 0.00062952 0.00062705 0.00062604 0.00062567 0.00062325 0.00062298\n",
      " 0.00062183 0.00062062 0.00061911 0.00061748 0.00061669 0.00061556\n",
      " 0.00061398 0.00061315 0.00061167 0.0006109  0.0006105  0.00060888\n",
      " 0.00060746 0.00060667 0.0006067  0.00060436 0.00060375 0.00060072\n",
      " 0.00059971 0.00059933 0.00059825 0.00059601 0.00059505 0.00059442\n",
      " 0.00059342 0.0005922  0.00059119 0.00059044 0.00058942 0.00058847\n",
      " 0.0005872  0.00058646 0.00058594 0.00058366 0.00058291 0.00058177\n",
      " 0.00058077 0.00057951 0.00057815 0.00057728 0.00057691 0.00057489\n",
      " 0.00057365 0.00057304 0.00057264 0.00057095 0.00057057 0.00057001\n",
      " 0.00056853 0.00056842 0.00056685 0.00056503 0.00056497 0.00056298\n",
      " 0.0005621  0.00056114 0.00056077 0.00055896 0.00055777 0.00055739\n",
      " 0.00055649 0.00055584 0.00055533 0.00055517 0.00055466 0.00055169\n",
      " 0.00055061 0.0005498  0.00054927 0.00054828 0.00054719 0.00054585\n",
      " 0.00054563 0.00054449 0.00054266 0.00054093 0.00054075 0.00054046\n",
      " 0.00053961 0.00053889 0.00053787 0.00053687 0.00053611 0.00053471\n",
      " 0.00053389 0.00053226 0.00053205 0.00053157 0.00053102 0.00052989\n",
      " 0.000529   0.00052824 0.00052778 0.00052615 0.00052587 0.00052496\n",
      " 0.00052375 0.00052319 0.00052291 0.0005218  0.00052109 0.0005208\n",
      " 0.00051999 0.00051855 0.00051787 0.00051718 0.00051668 0.00051542\n",
      " 0.00051494 0.00051408 0.00051276 0.00051218 0.00051118 0.00051049\n",
      " 0.00050948 0.00050911 0.00050837 0.00050749 0.00050726 0.0005054\n",
      " 0.00050516 0.00050392 0.00050298 0.00050293 0.0005019  0.00050174\n",
      " 0.00050091 0.0005006  0.00050008 0.00049859 0.00049791 0.00049704\n",
      " 0.0004957  0.00049563 0.00049523 0.00049355 0.0004926  0.00049163\n",
      " 0.00049088 0.00048972 0.00048923 0.00048853 0.00048761 0.00048695\n",
      " 0.00048659 0.00048539 0.00048468 0.00048435 0.00048347 0.0004826\n",
      " 0.0004814  0.00048111 0.0004808  0.00048057 0.0004797  0.00047848\n",
      " 0.00047839 0.00047791 0.00047636 0.00047563 0.00047516 0.00047456\n",
      " 0.00047441 0.00047384 0.00047331 0.00047313 0.00047202 0.00047106\n",
      " 0.00047077 0.0004694  0.00046918 0.00046895 0.0004674  0.00046721\n",
      " 0.00046664 0.00046632 0.00046478 0.00046401 0.00046352 0.00046324\n",
      " 0.00046294 0.00046189 0.00046113 0.00046023 0.00045954 0.00045893\n",
      " 0.00045875 0.00045846 0.0004576  0.00045704 0.00045653 0.00045559\n",
      " 0.00045503 0.00045444 0.00045401 0.00045348 0.00045309 0.00045226\n",
      " 0.00045103 0.00045043 0.00045002 0.00044911 0.00044882 0.00044811\n",
      " 0.00044754 0.0004468  0.00044638 0.00044599 0.00044583 0.0004452\n",
      " 0.00044489 0.00044424 0.00044328 0.00044311 0.00044233 0.00044128\n",
      " 0.00044042 0.00044004 0.00043976 0.00043938 0.00043899 0.00043842\n",
      " 0.00043774 0.00043716 0.00043598 0.0004356  0.000435   0.00043466\n",
      " 0.0004342  0.00043298 0.00043232 0.00043186 0.00043124 0.00043124\n",
      " 0.00042999 0.00042965 0.00042936 0.0004291  0.00042816 0.000428\n",
      " 0.00042716 0.0004266  0.00042565 0.00042541 0.00042499 0.0004246\n",
      " 0.00042434 0.00042394 0.0004234  0.00042312 0.00042223 0.00042168\n",
      " 0.0004214  0.00041982 0.00041947 0.00041911 0.00041866 0.00041817\n",
      " 0.000418   0.00041766 0.00041718 0.00041637 0.00041612 0.00041524\n",
      " 0.00041515 0.000415   0.00041429 0.00041373 0.00041302 0.00041224\n",
      " 0.00041218 0.00041164 0.00041128 0.00041008 0.00040971 0.00040925\n",
      " 0.00040895 0.00040835 0.00040757 0.00040687 0.00040642 0.00040559\n",
      " 0.00040524 0.00040522 0.00040492 0.0004046  0.00040419 0.00040325\n",
      " 0.00040289 0.00040178 0.0004016  0.00040135 0.00040043 0.00040025\n",
      " 0.00040009 0.00039994 0.00039904 0.00039856 0.00039788 0.00039732\n",
      " 0.00039725 0.0003969  0.00039585 0.00039554 0.00039554 0.0003954\n",
      " 0.0003946  0.00039402 0.00039354 0.00039283 0.0003926  0.00039238\n",
      " 0.00039208 0.00039123 0.00039116 0.00039031 0.00039013 0.00038957\n",
      " 0.00038887 0.0003888  0.00038825 0.00038792 0.00038776 0.00038705\n",
      " 0.00038644 0.00038626 0.00038583 0.00038519 0.00038492 0.00038475\n",
      " 0.00038426 0.00038381 0.00038325 0.00038288 0.00038257 0.00038243\n",
      " 0.00038146 0.00038125 0.00038058 0.00038044 0.00038025 0.00037995\n",
      " 0.00037929 0.00037874 0.00037855 0.00037811 0.0003778  0.00037688\n",
      " 0.00037655 0.00037632 0.00037617 0.00037497 0.00037483 0.0003745\n",
      " 0.00037433 0.00037385 0.00037366 0.00037294 0.00037261 0.00037249\n",
      " 0.00037166 0.00037081 0.00037065 0.00037019 0.00037002 0.00036963\n",
      " 0.00036959 0.00036885 0.00036863 0.00036817 0.00036791 0.00036752\n",
      " 0.00036684 0.00036665 0.00036626 0.00036614 0.00036535 0.00036492\n",
      " 0.00036449 0.00036444 0.00036414 0.00036371 0.00036309 0.00036246\n",
      " 0.00036239 0.00036188 0.00036138 0.00036107 0.00036024 0.00036006\n",
      " 0.00035978 0.00035921 0.00035885 0.00035865 0.00035857 0.00035806\n",
      " 0.00035758 0.00035719 0.00035668 0.00035647 0.00035618 0.00035575\n",
      " 0.00035559 0.00035524 0.00035474 0.00035418 0.00035367 0.00035321\n",
      " 0.00035297 0.00035221 0.00035214 0.00035172 0.00035162 0.00035127\n",
      " 0.00035101 0.00035038 0.00035021 0.00034998 0.00034987 0.00034921\n",
      " 0.00034905 0.0003484  0.00034814 0.00034751 0.0003473  0.00034698\n",
      " 0.00034633 0.00034618 0.00034543 0.00034523 0.00034498 0.00034467\n",
      " 0.00034427 0.00034408 0.00034377 0.00034349 0.00034299 0.00034284\n",
      " 0.00034265 0.00034241 0.00034194 0.0003416  0.00034096 0.00034067\n",
      " 0.00034038 0.00033991 0.00033956 0.00033932 0.00033868 0.00033848\n",
      " 0.00033832 0.00033748 0.00033712 0.00033694 0.00033669 0.00033646\n",
      " 0.00033601 0.00033575 0.00033542 0.00033527 0.0003349  0.00033478\n",
      " 0.00033434 0.00033376 0.00033332 0.00033296 0.00033267 0.00033238\n",
      " 0.00033215 0.00033153 0.00033129 0.000331   0.00033078 0.00033046\n",
      " 0.00033036 0.00033013 0.00032946 0.00032919 0.00032876 0.00032846\n",
      " 0.00032822 0.00032811 0.00032779 0.00032727 0.00032708 0.00032684\n",
      " 0.00032643 0.00032614 0.00032583 0.00032539 0.00032508 0.0003247\n",
      " 0.00032466 0.00032414 0.00032374 0.00032367 0.00032321 0.00032294\n",
      " 0.00032241 0.00032225 0.00032214 0.00032143 0.00032111 0.0003208\n",
      " 0.00032059 0.00032043 0.00032    0.00031944 0.00031934 0.00031886\n",
      " 0.00031857 0.00031839 0.00031784 0.00031762 0.00031736 0.00031689\n",
      " 0.00031657 0.00031632 0.00031579 0.00031567 0.00031547 0.00031524\n",
      " 0.00031512 0.00031421 0.00031387 0.00031377 0.00031363 0.00031337\n",
      " 0.00031255 0.00031236 0.00031208 0.00031173 0.00031148 0.00031137\n",
      " 0.00031129 0.00031084 0.00031061 0.0003104  0.00030988 0.00030978\n",
      " 0.00030963 0.00030915 0.00030882 0.00030833 0.00030833 0.0003081\n",
      " 0.00030786 0.00030753 0.00030725 0.00030664 0.00030639 0.00030624\n",
      " 0.00030565 0.00030552 0.00030524 0.00030504 0.00030467 0.00030443\n",
      " 0.00030424 0.00030408 0.00030392 0.00030352 0.00030317 0.00030282\n",
      " 0.00030231 0.00030221 0.000302   0.00030189 0.0003014  0.00030098\n",
      " 0.00030061 0.0003002  0.00030017 0.00029976 0.00029967 0.00029906\n",
      " 0.00029858 0.00029831 0.00029823 0.00029806 0.00029779 0.00029751\n",
      " 0.00029722 0.00029704 0.0002966  0.00029636 0.0002963  0.00029575\n",
      " 0.00029554 0.00029501 0.00029473 0.00029467 0.0002941  0.00029393\n",
      " 0.00029361 0.00029355 0.00029327 0.00029258 0.0002925  0.00029188\n",
      " 0.00029149 0.00029143 0.00029106 0.00029076 0.00029047 0.00029015\n",
      " 0.00028986 0.00028966 0.00028956 0.00028911 0.00028903 0.00028874\n",
      " 0.00028812 0.00028806 0.0002877  0.0002876  0.00028718 0.00028695\n",
      " 0.00028649 0.00028641 0.00028628 0.0002861  0.00028569 0.00028555\n",
      " 0.00028521 0.00028478 0.00028464 0.00028418 0.00028355 0.00028323\n",
      " 0.00028321 0.00028309 0.00028269 0.00028233 0.00028194 0.00028158\n",
      " 0.00028121 0.00028099 0.00028086 0.00028066 0.00028032 0.00028001\n",
      " 0.00027979 0.00027937 0.00027923 0.00027907 0.00027871 0.0002783\n",
      " 0.00027795 0.00027763 0.00027734 0.0002769  0.00027678 0.00027661\n",
      " 0.0002762  0.00027588 0.00027535 0.00027477 0.00027446 0.0002742\n",
      " 0.00027386 0.00027357 0.00027336 0.00027306 0.00027292 0.00027255\n",
      " 0.00027242 0.00027215 0.00027168 0.00027148 0.00027129 0.00027089\n",
      " 0.00027039 0.00027012 0.00026999 0.00026968 0.00026943 0.00026923\n",
      " 0.00026884 0.00026845 0.00026768 0.0002675  0.00026734 0.00026719\n",
      " 0.00026666 0.00026661 0.00026635 0.00026592 0.00026553 0.00026496\n",
      " 0.00026467 0.00026446 0.0002641  0.00026379 0.00026341 0.000263\n",
      " 0.00026268 0.00026242 0.00026217 0.00026183 0.00026139 0.00026113\n",
      " 0.00026078 0.0002603  0.00025978 0.00025944 0.00025935 0.00025899\n",
      " 0.00025865 0.00025803 0.00025763 0.00025738 0.00025664 0.00025615\n",
      " 0.00025604 0.00025589 0.00025568 0.000255   0.00025432 0.00025406\n",
      " 0.0002538  0.00025286 0.00025262 0.00025232]\n"
     ]
    }
   ],
   "source": [
    "r = [i for i in range(n)]\n",
    "ratio = svd.explained_variance_ratio_\n",
    "percentage = [0] * 1000\n",
    "percentage[0] = ratio[0]\n",
    "for i in range(1, n):\n",
    "    percentage[i] = percentage[i - 1] + ratio[i]"
   ]
  },
  {
   "cell_type": "code",
   "execution_count": 15,
   "metadata": {},
   "outputs": [
    {
     "data": {
      "image/png": "[encoded data removed]",
      "text/plain": [
       "<Figure size 864x648 with 1 Axes>"
      ]
     },
     "metadata": {},
     "output_type": "display_data"
    }
   ],
   "source": [
    "plt.figure(figsize = (12, 9))\n",
    "plt.xlabel('Number of principal components r', fontsize = 20)\n",
    "plt.ylabel('Percent of Variance Retained', fontsize = 20)\n",
    "plt.title('Percent of Variance retained', fontsize = 24)\n",
    "plt.xlim([0.0, 1010])\n",
    "plt.plot(r, percentage)\n",
    "fig = plt.gcf()\n",
    "plt.show\n",
    "fig.savefig('percent.png', dpi=300, bbox_inches = 'tight')"
   ]
  },
  {
   "cell_type": "code",
   "execution_count": null,
   "metadata": {},
   "outputs": [],
   "source": []
  }
 ],
 "metadata": {
  "kernelspec": {
   "display_name": "Python 3",
   "language": "python",
   "name": "python3"
  },
  "language_info": {
   "codemirror_mode": {
    "name": "ipython",
    "version": 3
   },
   "file_extension": ".py",
   "mimetype": "text/x-python",
   "name": "python",
   "nbconvert_exporter": "python",
   "pygments_lexer": "ipython3",
   "version": "3.6.5"
  }
 },
 "nbformat": 4,
 "nbformat_minor": 2
}
