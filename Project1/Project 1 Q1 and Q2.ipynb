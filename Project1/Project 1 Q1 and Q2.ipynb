{
 "cells": [
  {
   "cell_type": "code",
   "execution_count": 1,
   "metadata": {
    "collapsed": true
   },
   "outputs": [],
   "source": [
    "import numpy as np\n",
    "np.random.seed(42)\n",
    "import random\n",
    "random.seed(42)\n",
    "from sklearn import datasets\n",
    "import matplotlib.pyplot as plt"
   ]
  },
  {
   "cell_type": "code",
   "execution_count": 2,
   "metadata": {
    "collapsed": true
   },
   "outputs": [],
   "source": [
    "categories = ['comp.graphics', 'comp.os.ms-windows.misc', 'comp.sys.ibm.pc.hardware', 'comp.sys.mac.hardware', 'rec.autos', 'rec.motorcycles', 'rec.sport.baseball', 'rec.sport.hockey']\n",
    "train_dataset = datasets.fetch_20newsgroups(subset = 'train', categories = categories, shuffle = True, random_state = None)\n",
    "test_dataset = datasets.fetch_20newsgroups(subset = 'test', categories = categories, shuffle = True, random_state = None)"
   ]
  },
  {
   "cell_type": "markdown",
   "metadata": {},
   "source": [
    "# Question 1\n",
    "Plot a hisgogram of the number of training documents for each of the 20 categories to check if they are evenly distributed"
   ]
  },
  {
   "cell_type": "code",
   "execution_count": 3,
   "metadata": {},
   "outputs": [
    {
     "data": {
      "image/png": "[encoded data removed]",
      "text/plain": [
       "<matplotlib.figure.Figure at 0x113e61050>"
      ]
     },
     "metadata": {},
     "output_type": "display_data"
    },
    {
     "name": "stdout",
     "output_type": "stream",
     "text": [
      "18846\n",
      "([799, 973, 985, 982, 963, 988, 975, 990, 996, 994, 999, 991, 984, 990, 987, 997, 910, 940, 775, 628], ['alt.atheism', 'comp.graphics', 'comp.os.ms-windows.misc', 'comp.sys.ibm.pc.hardware', 'comp.sys.mac.hardware', 'comp.windows.x', 'misc.forsale', 'rec.autos', 'rec.motorcycles', 'rec.sport.baseball', 'rec.sport.hockey', 'sci.crypt', 'sci.electronics', 'sci.med', 'sci.space', 'soc.religion.christian', 'talk.politics.guns', 'talk.politics.mideast', 'talk.politics.misc', 'talk.religion.misc'])\n"
     ]
    }
   ],
   "source": [
    "#Collect the entire dataset fetch_20newsgroups\n",
    "#windows path\n",
    "#data=datasets.fetch_20newsgroups(data_home=r\"D:\\google drive file\\study\\UCLA\\2020 winter\\219\\project 1\\cache\",subset='all')\n",
    "#macOS path\n",
    "data=datasets.fetch_20newsgroups(data_home=\"/Users/ethanwang/Google\\ 云端硬盘/study/UCLA/2020\\ winter/219/project\\ 1/cache \",subset='all')\n",
    "#Count the number of documents for each category\n",
    "counts=[]\n",
    "target_name=0\n",
    "N=20\n",
    "sum=0\n",
    "i=0;j=0\n",
    "sum=0\n",
    "for i in range(N):\n",
    "    count=np.sum(data.target==i)\n",
    "    counts.append(count)\n",
    "    sum=sum+count\n",
    "#plot histogram\n",
    "plt.bar(range(len(counts)),counts)\n",
    "plt.xticks(range(N), (w for w in data.target_names))\n",
    "plt.xticks(rotation=90,size=5)\n",
    "plt.title('Counts of 20 Categories')\n",
    "plt.xlabel('Class')\n",
    "plt.ylabel('Number of documents')\n",
    "plt.show()\n",
    "print(sum)\n",
    "print(counts,data.target_names)"
   ]
  },
  {
   "cell_type": "markdown",
   "metadata": {},
   "source": [
    "# Question 2\n",
    "Feature Extraction"
   ]
  },
  {
   "cell_type": "code",
   "execution_count": 4,
   "metadata": {},
   "outputs": [
    {
     "name": "stdout",
     "output_type": "stream",
     "text": [
      "number of stop_words in sklearn text:318\n"
     ]
    }
   ],
   "source": [
    "from nltk import WordNetLemmatizer\n",
    "from nltk import pos_tag\n",
    "import nltk\n",
    "from nltk.corpus import wordnet\n",
    "from sklearn.feature_extraction import text\n",
    "from sklearn.feature_extraction.text import CountVectorizer\n",
    "#Define Stopwords, here we use stopwords in text package\n",
    "stop_words=text.ENGLISH_STOP_WORDS\n",
    "print(\"number of stop_words in sklearn text:%s\" % len(stop_words))"
   ]
  },
  {
   "cell_type": "code",
   "execution_count": 5,
   "metadata": {
    "collapsed": true
   },
   "outputs": [],
   "source": [
    "#Lemmatization\n",
    "lemmatizer=WordNetLemmatizer()\n",
    "#Define lemmatizer pos_tag to deal with adj, verb, noun and adv separately\n",
    "def get_wordnet_pos(word):\n",
    "    \"\"\"Map POS tag to first character lemmatize() accepts\"\"\"\n",
    "    tag = nltk.pos_tag([word])[0][1][0].upper()\n",
    "    tag_dict = {\"J\": wordnet.ADJ,\n",
    "                \"N\": wordnet.NOUN,\n",
    "                \"V\": wordnet.VERB,\n",
    "                \"R\": wordnet.ADV}\n",
    "\n",
    "    return tag_dict.get(tag, wordnet.NOUN)\n",
    "\n",
    "#Preprocessing: exclude some symbols and numbers in each sentence\n",
    "exclude_sign=\"~#$%^&*(){}[]<>|+=1234567890\"\n",
    "replace_sign=\"@,.?!-;\"\n",
    "def preprocessing(data):\n",
    "    processed_sentence=[]\n",
    "    for i in range(len(data)):\n",
    "        sentence=data[i]\n",
    "        for c in exclude_sign:\n",
    "            sentence=sentence.replace(c,\"\")\n",
    "        for c in replace_sign:\n",
    "            sentence=sentence.replace(c,\" \")\n",
    "        processed_token=[lemmatizer.lemmatize(w,get_wordnet_pos(w)) for w in nltk.word_tokenize(sentence)]\n",
    "        processed_sentence.append(\" \".join(processed_token))\n",
    "    return processed_sentence\n",
    "#Training\n",
    "processed_train_data=preprocessing(train_dataset.data)\n",
    "processed_test_data=preprocessing(test_dataset.data)\n",
    "vectorizer=CountVectorizer(stop_words='english',min_df=3)\n"
   ]
  },
  {
   "cell_type": "code",
   "execution_count": 6,
   "metadata": {},
   "outputs": [
    {
     "name": "stdout",
     "output_type": "stream",
     "text": [
      "<class 'scipy.sparse.csr.csr_matrix'>\n",
      "(4732, 15485)\n",
      "(3150, 11250)\n"
     ]
    }
   ],
   "source": [
    "#print(type(processed_train_data))\n",
    "#print(np.shape(processed_train_data))\n",
    "\n",
    "train_tf=vectorizer.fit_transform(processed_train_data)\n",
    "test_tf=vectorizer.fit_transform(processed_test_data)\n",
    "\n",
    "\n",
    "print(type(train_tf))\n",
    "print(np.shape(train_tf))\n",
    "print(np.shape(test_tf))"
   ]
  },
  {
   "cell_type": "code",
   "execution_count": 7,
   "metadata": {},
   "outputs": [
    {
     "name": "stdout",
     "output_type": "stream",
     "text": [
      "('TF_train has the shape as', (4732, 15485))\n",
      "('TF_test has the shape as', (3150, 11250))\n",
      "<class 'scipy.sparse.csr.csr_matrix'>\n",
      "<class 'scipy.sparse.csr.csr_matrix'>\n"
     ]
    }
   ],
   "source": [
    "from sklearn.feature_extraction.text import TfidfTransformer\n",
    "TdT=TfidfTransformer()\n",
    "TF_test=TdT.fit_transform(test_tf)\n",
    "TF_train=TdT.fit_transform(train_tf)\n",
    "\n",
    "\n",
    "print(\"TF_train has the shape as\",np.shape(TF_train))\n",
    "print(\"TF_test has the shape as\",np.shape(TF_test))\n",
    "print(type(TF_train))\n",
    "print(type(TF_test))"
   ]
  },
  {
   "cell_type": "code",
   "execution_count": 15,
   "metadata": {},
   "outputs": [
    {
     "name": "stdout",
     "output_type": "stream",
     "text": [
      "<type 'list'>\n",
      "The number of features in training dataset is \n",
      "(11254,)\n"
     ]
    }
   ],
   "source": [
    "feature_names=vectorizer.get_feature_names()\n",
    "print(type(feature_names))\n",
    "print('The number of features in training dataset is ')\n",
    "print(np.shape(feature_names))\n",
    "weight=TF_train.toarray()\n"
   ]
  },
  {
   "cell_type": "code",
   "execution_count": 16,
   "metadata": {},
   "outputs": [
    {
     "name": "stdout",
     "output_type": "stream",
     "text": [
      "[16.57370787 17.34082719  6.3631521  ...  0.54448256  0.73441091\n",
      "  0.42150961]\n",
      "(11254,)\n",
      "(1, 15488)\n",
      "<type 'numpy.ndarray'>\n",
      "15488\n"
     ]
    }
   ],
   "source": [
    "\n",
    "weight=TF_train.toarray()#将tf-idf矩阵抽取出来，元素a[i][j]表示j词在i类文本中的tf-idf权重\n",
    "dict={}\n",
    "\n",
    "weight_overall=np.zeros([1,len(weight[0])])#collect all feature words frequency for specific categories\n",
    "\n",
    "for i in range(weight.shape[0]):\n",
    "    weight_overall=weight_overall+weight[i]\n",
    "weight=weight_overall\n",
    "\n",
    "print(weight[0])\n",
    "print(np.shape(feature_names))\n",
    "print(np.shape(weight))\n",
    "print(type(weight))\n",
    "print(len(weight[0]))"
   ]
  },
  {
   "cell_type": "code",
   "execution_count": 17,
   "metadata": {},
   "outputs": [
    {
     "ename": "IndexError",
     "evalue": "list index out of range",
     "output_type": "error",
     "traceback": [
      "\u001b[0;31m---------------------------------------------------------------------------\u001b[0m",
      "\u001b[0;31mIndexError\u001b[0m                                Traceback (most recent call last)",
      "\u001b[0;32m<ipython-input-17-2f1739ee4113>\u001b[0m in \u001b[0;36m<module>\u001b[0;34m()\u001b[0m\n\u001b[1;32m      2\u001b[0m \u001b[0;32mfor\u001b[0m \u001b[0mi\u001b[0m \u001b[0;32min\u001b[0m \u001b[0mrange\u001b[0m\u001b[0;34m(\u001b[0m\u001b[0mlen\u001b[0m\u001b[0;34m(\u001b[0m\u001b[0mweight\u001b[0m\u001b[0;34m[\u001b[0m\u001b[0;36m0\u001b[0m\u001b[0;34m]\u001b[0m\u001b[0;34m)\u001b[0m\u001b[0;34m)\u001b[0m\u001b[0;34m:\u001b[0m\u001b[0;31m#打印每类文本的tf-idf词语权重 并排序\u001b[0m\u001b[0;34m\u001b[0m\u001b[0m\n\u001b[1;32m      3\u001b[0m             \u001b[0;32mif\u001b[0m \u001b[0mweight\u001b[0m\u001b[0;34m[\u001b[0m\u001b[0;36m0\u001b[0m\u001b[0;34m]\u001b[0m\u001b[0;34m[\u001b[0m\u001b[0mi\u001b[0m\u001b[0;34m]\u001b[0m\u001b[0;34m!=\u001b[0m\u001b[0;36m0\u001b[0m\u001b[0;34m:\u001b[0m\u001b[0;34m\u001b[0m\u001b[0m\n\u001b[0;32m----> 4\u001b[0;31m                 \u001b[0mdict\u001b[0m\u001b[0;34m[\u001b[0m\u001b[0mfeature_names\u001b[0m\u001b[0;34m[\u001b[0m\u001b[0mi\u001b[0m\u001b[0;34m]\u001b[0m\u001b[0;34m]\u001b[0m\u001b[0;34m=\u001b[0m\u001b[0mweight\u001b[0m\u001b[0;34m[\u001b[0m\u001b[0;36m0\u001b[0m\u001b[0;34m]\u001b[0m\u001b[0;34m[\u001b[0m\u001b[0mi\u001b[0m\u001b[0;34m]\u001b[0m\u001b[0;34m\u001b[0m\u001b[0m\n\u001b[0m\u001b[1;32m      5\u001b[0m \u001b[0;31m#print(dict)\u001b[0m\u001b[0;34m\u001b[0m\u001b[0;34m\u001b[0m\u001b[0m\n\u001b[1;32m      6\u001b[0m \u001b[0;31m#print(sorted(dict.items(), key=lambda item:item[1], reverse=True))\u001b[0m\u001b[0;34m\u001b[0m\u001b[0;34m\u001b[0m\u001b[0m\n",
      "\u001b[0;31mIndexError\u001b[0m: list index out of range"
     ]
    }
   ],
   "source": [
    "#sort the feature dictionary to see top features\n",
    "for i in range(len(weight[0])):#打印每类文本的tf-idf词语权重 并排序\n",
    "            if weight[0][i]!=0:\n",
    "                dict[feature_names[i]]=weight[0][i]\n",
    "#print(dict)\n",
    "#print(sorted(dict.items(), key=lambda item:item[1], reverse=True))"
   ]
  }
 ],
 "metadata": {
  "kernelspec": {
   "display_name": "Python 3",
   "language": "python",
   "name": "python3"
  },
  "language_info": {
   "codemirror_mode": {
    "name": "ipython",
    "version": 3
   },
   "file_extension": ".py",
   "mimetype": "text/x-python",
   "name": "python",
   "nbconvert_exporter": "python",
   "pygments_lexer": "ipython3",
   "version": "3.6.4"
  }
 },
 "nbformat": 4,
 "nbformat_minor": 4
}
