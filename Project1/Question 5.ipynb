{
 "cells": [
  {
   "cell_type": "code",
   "execution_count": 1,
   "metadata": {
    "collapsed": true
   },
   "outputs": [],
   "source": [
    "import numpy as np\n",
    "np.random.seed(42)\n",
    "import random\n",
    "random.seed(42)\n",
    "from sklearn import datasets\n",
    "import matplotlib.pyplot as plt"
   ]
  },
  {
   "cell_type": "code",
   "execution_count": 2,
   "metadata": {
    "collapsed": true
   },
   "outputs": [],
   "source": [
    "categories = ['comp.graphics', 'comp.os.ms-windows.misc', 'comp.sys.ibm.pc.hardware', 'comp.sys.mac.hardware', 'rec.autos', 'rec.motorcycles', 'rec.sport.baseball', 'rec.sport.hockey']\n",
    "train_dataset = datasets.fetch_20newsgroups(subset = 'train', categories = categories, shuffle = True, random_state = None)\n",
    "test_dataset = datasets.fetch_20newsgroups(subset = 'test', categories = categories, shuffle = True, random_state = None)"
   ]
  },
  {
   "cell_type": "code",
   "execution_count": 3,
   "metadata": {},
   "outputs": [
    {
     "name": "stdout",
     "output_type": "stream",
     "text": [
      "number of stop_words in sklearn text:318\n"
     ]
    }
   ],
   "source": [
    "from nltk import WordNetLemmatizer\n",
    "from nltk import pos_tag\n",
    "import nltk\n",
    "from nltk.corpus import wordnet\n",
    "from sklearn.feature_extraction import text\n",
    "from sklearn.feature_extraction.text import CountVectorizer\n",
    "#Define Stopwords, here we use stopwords in text package\n",
    "stop_words=text.ENGLISH_STOP_WORDS\n",
    "print(\"number of stop_words in sklearn text:%s\" % len(stop_words))"
   ]
  },
  {
   "cell_type": "code",
   "execution_count": 4,
   "metadata": {
    "collapsed": true
   },
   "outputs": [],
   "source": [
    "#Lemmatization\n",
    "lemmatizer=WordNetLemmatizer()\n",
    "#Define lemmatizer pos_tag to deal with adj, verb, noun and adv separately\n",
    "def get_wordnet_pos(word):\n",
    "    \"\"\"Map POS tag to first character lemmatize() accepts\"\"\"\n",
    "    tag = nltk.pos_tag([word])[0][1][0].upper()\n",
    "    tag_dict = {\"J\": wordnet.ADJ,\n",
    "                \"N\": wordnet.NOUN,\n",
    "                \"V\": wordnet.VERB,\n",
    "                \"R\": wordnet.ADV}\n",
    "\n",
    "    return tag_dict.get(tag, wordnet.NOUN)\n",
    "\n",
    "#Preprocessing: exclude some symbols and numbers in each sentence\n",
    "exclude_sign=\"~#$%^&*(){}[]<>|+=1234567890\"\n",
    "replace_sign=\"@,.?!-;\"\n",
    "def preprocessing(data):\n",
    "    processed_sentence=[]\n",
    "    for i in range(len(data)):\n",
    "        sentence=data[i]\n",
    "        for c in exclude_sign:\n",
    "            sentence=sentence.replace(c,\"\")\n",
    "        for c in replace_sign:\n",
    "            sentence=sentence.replace(c,\" \")\n",
    "        processed_token=[lemmatizer.lemmatize(w,get_wordnet_pos(w)) for w in nltk.word_tokenize(sentence)]\n",
    "        processed_sentence.append(\" \".join(processed_token))\n",
    "    return processed_sentence\n",
    "#Training\n",
    "\n",
    "vectorizer=CountVectorizer(stop_words='english',min_df=3)"
   ]
  },
  {
   "cell_type": "code",
   "execution_count": 5,
   "metadata": {
    "collapsed": true
   },
   "outputs": [],
   "source": [
    "#implement new dataset\n",
    "categories_computer=['comp.graphics', 'comp.os.ms-windows.misc', 'comp.sys.ibm.pc.hardware', 'comp.sys.mac.hardware']\n",
    "categories_rec=['rec.autos', 'rec.motorcycles', 'rec.sport.baseball', 'rec.sport.hockey']\n",
    "computer_train=datasets.fetch_20newsgroups(subset = 'train', categories = categories_computer, shuffle = True, random_state = None).data\n",
    "computer_test=datasets.fetch_20newsgroups(subset = 'test', categories = categories_computer, shuffle = True, random_state = None).data\n",
    "recreation_train=datasets.fetch_20newsgroups(subset = 'train', categories = categories_rec, shuffle = True, random_state = None).data\n",
    "recreation_test=datasets.fetch_20newsgroups(subset = 'test', categories = categories_rec, shuffle = True, random_state = None).data"
   ]
  },
  {
   "cell_type": "code",
   "execution_count": 6,
   "metadata": {},
   "outputs": [
    {
     "name": "stdout",
     "output_type": "stream",
     "text": [
      "(7882,)\n"
     ]
    }
   ],
   "source": [
    "#implement new dataset cont'd: combine train and test together and save as X_overall\n",
    "X_train=computer_train+recreation_train\n",
    "X_test=computer_test+recreation_test\n",
    "X_overall=X_train+X_test\n",
    "Y_train=[1]*len(computer_train)+[0]*len(recreation_train)\n",
    "Y_test=[1]*len(computer_test)+[0]*len(recreation_test)\n",
    "print(np.shape(X_overall))"
   ]
  },
  {
   "cell_type": "code",
   "execution_count": 7,
   "metadata": {
    "collapsed": true
   },
   "outputs": [],
   "source": [
    "#Lemmatization\n",
    "processed_train_data=preprocessing(X_overall)\n",
    "\n"
   ]
  },
  {
   "cell_type": "code",
   "execution_count": 8,
   "metadata": {
    "collapsed": true
   },
   "outputs": [],
   "source": [
    "#Vectorization\n",
    "data_vec=vectorizer.fit_transform(processed_train_data)\n",
    "\n"
   ]
  },
  {
   "cell_type": "code",
   "execution_count": 9,
   "metadata": {
    "collapsed": true
   },
   "outputs": [],
   "source": [
    "#TdIdf\n",
    "from sklearn.feature_extraction.text import TfidfTransformer\n",
    "TdT=TfidfTransformer()\n",
    "data_vec_ti=TdT.fit_transform(data_vec)\n",
    "\n"
   ]
  },
  {
   "cell_type": "code",
   "execution_count": 10,
   "metadata": {},
   "outputs": [
    {
     "name": "stdout",
     "output_type": "stream",
     "text": [
      "(7882, 50)\n"
     ]
    }
   ],
   "source": [
    "#LSI\n",
    "from sklearn.decomposition import TruncatedSVD\n",
    "transformer=TruncatedSVD(n_components=50)\n",
    "data_svd=transformer.fit_transform(data_vec_ti)\n",
    "print(np.shape(data_svd))\n",
    "\n"
   ]
  },
  {
   "cell_type": "code",
   "execution_count": 11,
   "metadata": {},
   "outputs": [
    {
     "name": "stdout",
     "output_type": "stream",
     "text": [
      "(7882, 50)\n",
      "<class 'numpy.ndarray'>\n"
     ]
    }
   ],
   "source": [
    "#nmf\n",
    "from sklearn.decomposition import NMF\n",
    "nmf=NMF(n_components=50)\n",
    "data_nmf=nmf.fit_transform(data_vec_ti)\n",
    "print(np.shape(data_nmf))\n",
    "print(type(data_svd))"
   ]
  },
  {
   "cell_type": "code",
   "execution_count": 12,
   "metadata": {},
   "outputs": [
    {
     "name": "stdout",
     "output_type": "stream",
     "text": [
      "<class 'numpy.matrix'>\n",
      "(7882, 21423)\n",
      "LSI error:\n",
      "83.38389667525433\n",
      "NMF error:\n",
      "83.68714410508954\n"
     ]
    }
   ],
   "source": [
    "#error\n",
    "xhat=np.dot(data_svd,transformer.components_)\n",
    "\n",
    "data_mat=data_vec_ti.todense()\n",
    "data_ar=data_mat.getA()\n",
    "\n",
    "dif=xhat-data_mat\n",
    "error=0\n",
    "print(type(dif))\n",
    "print(np.shape(dif))\n",
    "error_lsi=np.sqrt(np.trace(np.dot(dif.T,dif)))\n",
    "print('LSI error:')\n",
    "print(error_lsi)\n",
    "\n",
    "nmf_div=nmf.reconstruction_err_\n",
    "print('NMF error:')\n",
    "print(nmf_div)"
   ]
  },
  {
   "cell_type": "code",
   "execution_count": 13,
   "metadata": {},
   "outputs": [
    {
     "name": "stdout",
     "output_type": "stream",
     "text": [
      "(4732, 50)\n",
      "(3150, 50)\n"
     ]
    }
   ],
   "source": [
    "X_train_tf=data_svd[0:len(X_train)]\n",
    "print(np.shape(X_train_tf))\n",
    "X_test_tf=data_svd[len(X_train):]\n",
    "print(np.shape(X_test_tf))"
   ]
  },
  {
   "cell_type": "markdown",
   "metadata": {},
   "source": [
    "# Question 5\n",
    "Logistic Regression"
   ]
  },
  {
   "cell_type": "code",
   "execution_count": 29,
   "metadata": {
    "collapsed": true
   },
   "outputs": [],
   "source": [
    "from sklearn.linear_model import LogisticRegression\n",
    "from sklearn import metrics\n",
    "from sklearn.model_selection import cross_val_score\n",
    "\n",
    "def LR_model (X_train, Y_train, X_test, Y_test, regularization_type,strength_inverse):\n",
    "    LR_classifier=LogisticRegression(penalty=regularization_type,C=strength_inverse,solver='liblinear')\n",
    "    LR_classifier.fit(X_train, Y_train)\n",
    "    predict_target=LR_classifier.predict(X_test)\n",
    "    predict_score=LR_classifier.decision_function(X_test)\n",
    "    FPR, TPR, threshold=metrics.roc_curve(Y_test,predict_score)\n",
    "    cvs=cross_val_score(LR_classifier,X_train, Y_train, cv=5)\n",
    "    cvs=np.average(cvs)\n",
    "    print('regularization_s is %f' %strength_inverse)\n",
    "    print('5-fold cross validation score is %f' %(np.average(cvs)))\n",
    "    return (predict_target, predict_score, FPR, TPR, threshold, cvs)\n",
    "\n"
   ]
  },
  {
   "cell_type": "code",
   "execution_count": 15,
   "metadata": {
    "collapsed": true
   },
   "outputs": [],
   "source": [
    "#Model Metrics\n",
    "def evaluation(Y_predict, Y_test, FPR, TPR):\n",
    "    confusion_matrix=metrics.confusion_matrix(Y_test,Y_predict)\n",
    "    accuracy=metrics.accuracy_score(Y_test, Y_predict)\n",
    "    recall=metrics.recall_score(Y_test, Y_predict, average='binary')\n",
    "    precision=metrics.precision_score(Y_test, Y_predict, average='binary')\n",
    "    f1_score=metrics.f1_score(Y_test, Y_predict, average='binary')\n",
    "    roc=metrics.auc(FPR, TPR)\n",
    "    plt.plot(FPR,TPR, lw=2, label='area under vurve= %0.4f' % roc)\n",
    "    plt.show()\n",
    "    print('Confusion matrix is: ')\n",
    "    print(confusion_matrix)\n",
    "    print('accuracy: %f' % accuracy)\n",
    "    print('recall: %f' % recall)\n",
    "    print('precision: %f' % precision)\n",
    "    print('f1_score: %f' % f1_score)\n",
    "    "
   ]
  },
  {
   "cell_type": "code",
   "execution_count": 25,
   "metadata": {},
   "outputs": [
    {
     "name": "stderr",
     "output_type": "stream",
     "text": [
      "c:\\users\\kingf\\appdata\\local\\programs\\python\\python36\\lib\\site-packages\\sklearn\\linear_model\\_logistic.py:940: ConvergenceWarning: lbfgs failed to converge (status=1):\n",
      "STOP: TOTAL NO. of ITERATIONS REACHED LIMIT.\n",
      "\n",
      "Increase the number of iterations (max_iter) or scale the data as shown in:\n",
      "    https://scikit-learn.org/stable/modules/preprocessing.html\n",
      "Please also refer to the documentation for alternative solver options:\n",
      "    https://scikit-learn.org/stable/modules/linear_model.html#logistic-regression\n",
      "  extra_warning_msg=_LOGISTIC_SOLVER_CONVERGENCE_MSG)\n",
      "c:\\users\\kingf\\appdata\\local\\programs\\python\\python36\\lib\\site-packages\\sklearn\\linear_model\\_logistic.py:940: ConvergenceWarning: lbfgs failed to converge (status=1):\n",
      "STOP: TOTAL NO. of ITERATIONS REACHED LIMIT.\n",
      "\n",
      "Increase the number of iterations (max_iter) or scale the data as shown in:\n",
      "    https://scikit-learn.org/stable/modules/preprocessing.html\n",
      "Please also refer to the documentation for alternative solver options:\n",
      "    https://scikit-learn.org/stable/modules/linear_model.html#logistic-regression\n",
      "  extra_warning_msg=_LOGISTIC_SOLVER_CONVERGENCE_MSG)\n",
      "c:\\users\\kingf\\appdata\\local\\programs\\python\\python36\\lib\\site-packages\\sklearn\\linear_model\\_logistic.py:940: ConvergenceWarning: lbfgs failed to converge (status=1):\n",
      "STOP: TOTAL NO. of ITERATIONS REACHED LIMIT.\n",
      "\n",
      "Increase the number of iterations (max_iter) or scale the data as shown in:\n",
      "    https://scikit-learn.org/stable/modules/preprocessing.html\n",
      "Please also refer to the documentation for alternative solver options:\n",
      "    https://scikit-learn.org/stable/modules/linear_model.html#logistic-regression\n",
      "  extra_warning_msg=_LOGISTIC_SOLVER_CONVERGENCE_MSG)\n"
     ]
    },
    {
     "name": "stdout",
     "output_type": "stream",
     "text": [
      "regularization_s is 1000.000000\n",
      "5-fold cross validation score is 0.974853\n"
     ]
    },
    {
     "data": {
      "image/png": "[encoded data removed]",
      "text/plain": [
       "<Figure size 432x288 with 1 Axes>"
      ]
     },
     "metadata": {
      "needs_background": "light"
     },
     "output_type": "display_data"
    },
    {
     "name": "stdout",
     "output_type": "stream",
     "text": [
      "Confusion matrix is: \n",
      "[[1556   34]\n",
      " [  47 1513]]\n",
      "accuracy: 0.974286\n",
      "recall: 0.969872\n",
      "precision: 0.978022\n",
      "f1_score: 0.973930\n"
     ]
    }
   ],
   "source": [
    "#In order to set penalty as none. Apply L2 regularization, and set C as big as possible, then 1/lamba will be \n",
    "#as small as possible\n",
    "predict_target, predict_score, FPR, TPR, threshold, cv_score = LR_model(X_train_tf, Y_train, X_test_tf, Y_test, 'l2',\n",
    "                                                                        1000)\n",
    "evaluation(predict_target, Y_test, FPR, TPR)\n"
   ]
  },
  {
   "cell_type": "code",
   "execution_count": 30,
   "metadata": {},
   "outputs": [
    {
     "name": "stdout",
     "output_type": "stream",
     "text": [
      "No. 1\n",
      "regularization_s is 0.001000\n",
      "5-fold cross validation score is 0.661245\n"
     ]
    },
    {
     "data": {
      "image/png": "[encoded data removed]",
      "text/plain": [
       "<Figure size 432x288 with 1 Axes>"
      ]
     },
     "metadata": {
      "needs_background": "light"
     },
     "output_type": "display_data"
    },
    {
     "name": "stdout",
     "output_type": "stream",
     "text": [
      "Confusion matrix is: \n",
      "[[1590    0]\n",
      " [ 970  590]]\n",
      "accuracy: 0.692063\n",
      "recall: 0.378205\n",
      "precision: 1.000000\n",
      "f1_score: 0.548837\n",
      "No. 2\n",
      "regularization_s is 0.010000\n",
      "5-fold cross validation score is 0.943365\n"
     ]
    },
    {
     "data": {
      "image/png": "[encoded data removed]",
      "text/plain": [
       "<Figure size 432x288 with 1 Axes>"
      ]
     },
     "metadata": {
      "needs_background": "light"
     },
     "output_type": "display_data"
    },
    {
     "name": "stdout",
     "output_type": "stream",
     "text": [
      "Confusion matrix is: \n",
      "[[1581    9]\n",
      " [ 168 1392]]\n",
      "accuracy: 0.943810\n",
      "recall: 0.892308\n",
      "precision: 0.993576\n",
      "f1_score: 0.940223\n",
      "No. 3\n",
      "regularization_s is 0.100000\n",
      "5-fold cross validation score is 0.969782\n"
     ]
    },
    {
     "data": {
      "image/png": "[encoded data removed]",
      "text/plain": [
       "<Figure size 432x288 with 1 Axes>"
      ]
     },
     "metadata": {
      "needs_background": "light"
     },
     "output_type": "display_data"
    },
    {
     "name": "stdout",
     "output_type": "stream",
     "text": [
      "Confusion matrix is: \n",
      "[[1560   30]\n",
      " [  78 1482]]\n",
      "accuracy: 0.965714\n",
      "recall: 0.950000\n",
      "precision: 0.980159\n",
      "f1_score: 0.964844\n",
      "No. 4\n",
      "regularization_s is 1.000000\n",
      "5-fold cross validation score is 0.972951\n"
     ]
    },
    {
     "data": {
      "image/png": "[encoded data removed]",
      "text/plain": [
       "<Figure size 432x288 with 1 Axes>"
      ]
     },
     "metadata": {
      "needs_background": "light"
     },
     "output_type": "display_data"
    },
    {
     "name": "stdout",
     "output_type": "stream",
     "text": [
      "Confusion matrix is: \n",
      "[[1556   34]\n",
      " [  55 1505]]\n",
      "accuracy: 0.971746\n",
      "recall: 0.964744\n",
      "precision: 0.977908\n",
      "f1_score: 0.971281\n",
      "No. 5\n",
      "regularization_s is 10.000000\n",
      "5-fold cross validation score is 0.976121\n"
     ]
    },
    {
     "data": {
      "image/png": "[encoded data removed]",
      "text/plain": [
       "<Figure size 432x288 with 1 Axes>"
      ]
     },
     "metadata": {
      "needs_background": "light"
     },
     "output_type": "display_data"
    },
    {
     "name": "stdout",
     "output_type": "stream",
     "text": [
      "Confusion matrix is: \n",
      "[[1559   31]\n",
      " [  49 1511]]\n",
      "accuracy: 0.974603\n",
      "recall: 0.968590\n",
      "precision: 0.979896\n",
      "f1_score: 0.974210\n",
      "No. 6\n",
      "regularization_s is 100.000000\n",
      "5-fold cross validation score is 0.976544\n"
     ]
    },
    {
     "data": {
      "image/png": "[encoded data removed]",
      "text/plain": [
       "<Figure size 432x288 with 1 Axes>"
      ]
     },
     "metadata": {
      "needs_background": "light"
     },
     "output_type": "display_data"
    },
    {
     "name": "stdout",
     "output_type": "stream",
     "text": [
      "Confusion matrix is: \n",
      "[[1556   34]\n",
      " [  48 1512]]\n",
      "accuracy: 0.973968\n",
      "recall: 0.969231\n",
      "precision: 0.978008\n",
      "f1_score: 0.973599\n",
      "No. 7\n",
      "regularization_s is 1000.000000\n",
      "5-fold cross validation score is 0.974853\n"
     ]
    },
    {
     "data": {
      "image/png": "[encoded data removed]",
      "text/plain": [
       "<Figure size 432x288 with 1 Axes>"
      ]
     },
     "metadata": {
      "needs_background": "light"
     },
     "output_type": "display_data"
    },
    {
     "name": "stdout",
     "output_type": "stream",
     "text": [
      "Confusion matrix is: \n",
      "[[1556   34]\n",
      " [  47 1513]]\n",
      "accuracy: 0.974286\n",
      "recall: 0.969872\n",
      "precision: 0.978022\n",
      "f1_score: 0.973930\n",
      "The model with the best validation score is the model with regularization strengh as 100.000000 and cross validation score is 0.976544\n"
     ]
    }
   ],
   "source": [
    "#use 5-fold cross validation find the best regularization strength for L2\n",
    "cv_max=0\n",
    "regu_best=0\n",
    "\n",
    "for i in range(-3,4):\n",
    "    print('No. %i' %(i+4))\n",
    "    predict_target,predict_score,FPR, TPR, threshold, cv_score=LR_model(X_train_tf, Y_train, X_test_tf, Y_test, 'l2', 10**i )\n",
    "    evaluation(predict_target, Y_test, FPR, TPR)\n",
    "    if cv_score>cv_max:\n",
    "        cv_max=cv_score\n",
    "        regu_best=10**i\n",
    "print('The model with the best validation score is the model with regularization strengh as %f and cross validation score is %f' \n",
    "      %(regu_best,cv_max))\n",
    "\n",
    "\n",
    "\n"
   ]
  },
  {
   "cell_type": "code",
   "execution_count": 31,
   "metadata": {},
   "outputs": [
    {
     "name": "stdout",
     "output_type": "stream",
     "text": [
      "No. 1\n",
      "regularization_s is 0.001000\n",
      "5-fold cross validation score is 0.504861\n"
     ]
    },
    {
     "name": "stderr",
     "output_type": "stream",
     "text": [
      "c:\\users\\kingf\\appdata\\local\\programs\\python\\python36\\lib\\site-packages\\sklearn\\metrics\\_classification.py:1272: UndefinedMetricWarning: Precision is ill-defined and being set to 0.0 due to no predicted samples. Use `zero_division` parameter to control this behavior.\n",
      "  _warn_prf(average, modifier, msg_start, len(result))\n"
     ]
    },
    {
     "data": {
      "image/png": "[encoded data removed]",
      "text/plain": [
       "<Figure size 432x288 with 1 Axes>"
      ]
     },
     "metadata": {
      "needs_background": "light"
     },
     "output_type": "display_data"
    },
    {
     "name": "stdout",
     "output_type": "stream",
     "text": [
      "Confusion matrix is: \n",
      "[[1590    0]\n",
      " [1560    0]]\n",
      "accuracy: 0.504762\n",
      "recall: 0.000000\n",
      "precision: 0.000000\n",
      "f1_score: 0.000000\n",
      "No. 2\n",
      "regularization_s is 0.010000\n",
      "5-fold cross validation score is 0.918006\n"
     ]
    },
    {
     "data": {
      "image/png": "[encoded data removed]",
      "text/plain": [
       "<Figure size 432x288 with 1 Axes>"
      ]
     },
     "metadata": {
      "needs_background": "light"
     },
     "output_type": "display_data"
    },
    {
     "name": "stdout",
     "output_type": "stream",
     "text": [
      "Confusion matrix is: \n",
      "[[1418  172]\n",
      " [ 116 1444]]\n",
      "accuracy: 0.908571\n",
      "recall: 0.925641\n",
      "precision: 0.893564\n",
      "f1_score: 0.909320\n",
      "No. 3\n",
      "regularization_s is 0.100000\n",
      "5-fold cross validation score is 0.960693\n"
     ]
    },
    {
     "data": {
      "image/png": "[encoded data removed]",
      "text/plain": [
       "<Figure size 432x288 with 1 Axes>"
      ]
     },
     "metadata": {
      "needs_background": "light"
     },
     "output_type": "display_data"
    },
    {
     "name": "stdout",
     "output_type": "stream",
     "text": [
      "Confusion matrix is: \n",
      "[[1541   49]\n",
      " [  91 1469]]\n",
      "accuracy: 0.955556\n",
      "recall: 0.941667\n",
      "precision: 0.967721\n",
      "f1_score: 0.954516\n",
      "No. 4\n",
      "regularization_s is 1.000000\n",
      "5-fold cross validation score is 0.970627\n"
     ]
    },
    {
     "data": {
      "image/png": "[encoded data removed]",
      "text/plain": [
       "<Figure size 432x288 with 1 Axes>"
      ]
     },
     "metadata": {
      "needs_background": "light"
     },
     "output_type": "display_data"
    },
    {
     "name": "stdout",
     "output_type": "stream",
     "text": [
      "Confusion matrix is: \n",
      "[[1554   36]\n",
      " [  63 1497]]\n",
      "accuracy: 0.968571\n",
      "recall: 0.959615\n",
      "precision: 0.976517\n",
      "f1_score: 0.967992\n",
      "No. 5\n",
      "regularization_s is 10.000000\n",
      "5-fold cross validation score is 0.975064\n"
     ]
    },
    {
     "data": {
      "image/png": "[encoded data removed]",
      "text/plain": [
       "<Figure size 432x288 with 1 Axes>"
      ]
     },
     "metadata": {
      "needs_background": "light"
     },
     "output_type": "display_data"
    },
    {
     "name": "stdout",
     "output_type": "stream",
     "text": [
      "Confusion matrix is: \n",
      "[[1558   32]\n",
      " [  47 1513]]\n",
      "accuracy: 0.974921\n",
      "recall: 0.969872\n",
      "precision: 0.979288\n",
      "f1_score: 0.974557\n",
      "No. 6\n",
      "regularization_s is 100.000000\n",
      "5-fold cross validation score is 0.975698\n"
     ]
    },
    {
     "data": {
      "image/png": "[encoded data removed]",
      "text/plain": [
       "<Figure size 432x288 with 1 Axes>"
      ]
     },
     "metadata": {
      "needs_background": "light"
     },
     "output_type": "display_data"
    },
    {
     "name": "stdout",
     "output_type": "stream",
     "text": [
      "Confusion matrix is: \n",
      "[[1555   35]\n",
      " [  47 1513]]\n",
      "accuracy: 0.973968\n",
      "recall: 0.969872\n",
      "precision: 0.977390\n",
      "f1_score: 0.973616\n",
      "No. 7\n",
      "regularization_s is 1000.000000\n",
      "5-fold cross validation score is 0.975275\n"
     ]
    },
    {
     "data": {
      "image/png": "[encoded data removed]",
      "text/plain": [
       "<Figure size 432x288 with 1 Axes>"
      ]
     },
     "metadata": {
      "needs_background": "light"
     },
     "output_type": "display_data"
    },
    {
     "name": "stdout",
     "output_type": "stream",
     "text": [
      "Confusion matrix is: \n",
      "[[1554   36]\n",
      " [  47 1513]]\n",
      "accuracy: 0.973651\n",
      "recall: 0.969872\n",
      "precision: 0.976759\n",
      "f1_score: 0.973303\n",
      "The model with the best validation score is the model with regularization strengh as 100.000000 and cross validation score is 0.975698\n"
     ]
    }
   ],
   "source": [
    "#use 5-fold cross validation find the best regularization strength L1\n",
    "cv_max=0\n",
    "regu_best=0\n",
    "\n",
    "for i in range(-3,4):\n",
    "    print('No. %i' %(i+4))\n",
    "    predict_target,predict_score,FPR, TPR, threshold, cv_score=LR_model(X_train_tf, Y_train, X_test_tf, Y_test, 'l1', 10**i )\n",
    "    evaluation(predict_target, Y_test, FPR, TPR)\n",
    "    if cv_score>cv_max:\n",
    "        cv_max=cv_score\n",
    "        regu_best=10**i\n",
    "print('The model with the best validation score is the model with regularization strengh as %f and cross validation score is %f' \n",
    "      %(regu_best,cv_max))\n",
    "\n",
    "\n",
    "\n",
    "\n"
   ]
  },
  {
   "cell_type": "code",
   "execution_count": 35,
   "metadata": {},
   "outputs": [
    {
     "name": "stdout",
     "output_type": "stream",
     "text": [
      "0.9799239222316145\n",
      "0.9792899408284024\n"
     ]
    }
   ],
   "source": [
    "#LR_classifier_test=LogisticRegression(penalty='l2',C=100,solver='liblinear')\n",
    "#LR_classifier_test.fit(X_train_tf, Y_train)\n",
    "#print(LR_classifier_test.score(X_train_tf, Y_train))\n",
    "\n",
    "#from sklearn import svm\n",
    "\n",
    "#SVM_classifier=svm.SVC(C=1000,gamma='auto')\n",
    "#SVM_classifier.fit(X_train_tf,Y_train)\n",
    "#print(SVM_classifier.score(X_train_tf,Y_train))\n"
   ]
  }
 ],
 "metadata": {
  "kernelspec": {
   "display_name": "Python 3",
   "language": "python",
   "name": "python3"
  },
  "language_info": {
   "codemirror_mode": {
    "name": "ipython",
    "version": 3
   },
   "file_extension": ".py",
   "mimetype": "text/x-python",
   "name": "python",
   "nbconvert_exporter": "python",
   "pygments_lexer": "ipython3",
   "version": "3.6.4"
  }
 },
 "nbformat": 4,
 "nbformat_minor": 2
}
