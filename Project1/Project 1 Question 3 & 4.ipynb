{
 "cells": [
  {
   "cell_type": "code",
   "execution_count": 1,
   "metadata": {
    "collapsed": true
   },
   "outputs": [],
   "source": [
    "import numpy as np\n",
    "np.random.seed(42)\n",
    "import random\n",
    "random.seed(42)\n",
    "from sklearn import datasets\n",
    "import matplotlib.pyplot as plt"
   ]
  },
  {
   "cell_type": "code",
   "execution_count": 2,
   "metadata": {
    "collapsed": true
   },
   "outputs": [],
   "source": [
    "categories = ['comp.graphics', 'comp.os.ms-windows.misc', 'comp.sys.ibm.pc.hardware', 'comp.sys.mac.hardware', 'rec.autos', 'rec.motorcycles', 'rec.sport.baseball', 'rec.sport.hockey']\n",
    "train_dataset = datasets.fetch_20newsgroups(subset = 'train', categories = categories, shuffle = True, random_state = None)\n",
    "test_dataset = datasets.fetch_20newsgroups(subset = 'test', categories = categories, shuffle = True, random_state = None)"
   ]
  },
  {
   "cell_type": "code",
   "execution_count": 3,
   "metadata": {},
   "outputs": [
    {
     "name": "stdout",
     "output_type": "stream",
     "text": [
      "number of stop_words in sklearn text:318\n"
     ]
    }
   ],
   "source": [
    "from nltk import WordNetLemmatizer\n",
    "from nltk import pos_tag\n",
    "import nltk\n",
    "from nltk.corpus import wordnet\n",
    "from sklearn.feature_extraction import text\n",
    "from sklearn.feature_extraction.text import CountVectorizer\n",
    "#Define Stopwords, here we use stopwords in text package\n",
    "stop_words=text.ENGLISH_STOP_WORDS\n",
    "print(\"number of stop_words in sklearn text:%s\" % len(stop_words))"
   ]
  },
  {
   "cell_type": "code",
   "execution_count": 4,
   "metadata": {
    "collapsed": true
   },
   "outputs": [],
   "source": [
    "#Lemmatization\n",
    "lemmatizer=WordNetLemmatizer()\n",
    "#Define lemmatizer pos_tag to deal with adj, verb, noun and adv separately\n",
    "def get_wordnet_pos(word):\n",
    "    \"\"\"Map POS tag to first character lemmatize() accepts\"\"\"\n",
    "    tag = nltk.pos_tag([word])[0][1][0].upper()\n",
    "    tag_dict = {\"J\": wordnet.ADJ,\n",
    "                \"N\": wordnet.NOUN,\n",
    "                \"V\": wordnet.VERB,\n",
    "                \"R\": wordnet.ADV}\n",
    "\n",
    "    return tag_dict.get(tag, wordnet.NOUN)\n",
    "\n",
    "#Preprocessing: exclude some symbols and numbers in each sentence\n",
    "exclude_sign=\"~#$%^&*(){}[]<>|+=1234567890\"\n",
    "replace_sign=\"@,.?!-;\"\n",
    "def preprocessing(data):\n",
    "    processed_sentence=[]\n",
    "    for i in range(len(data)):\n",
    "        sentence=data[i]\n",
    "        for c in exclude_sign:\n",
    "            sentence=sentence.replace(c,\"\")\n",
    "        for c in replace_sign:\n",
    "            sentence=sentence.replace(c,\" \")\n",
    "        processed_token=[lemmatizer.lemmatize(w,get_wordnet_pos(w)) for w in nltk.word_tokenize(sentence)]\n",
    "        processed_sentence.append(\" \".join(processed_token))\n",
    "    return processed_sentence\n",
    "#Training\n",
    "\n",
    "vectorizer=CountVectorizer(stop_words='english',min_df=3)"
   ]
  },
  {
   "cell_type": "code",
   "execution_count": 5,
   "metadata": {
    "collapsed": true
   },
   "outputs": [],
   "source": [
    "#implement new dataset\n",
    "categories_computer=['comp.graphics', 'comp.os.ms-windows.misc', 'comp.sys.ibm.pc.hardware', 'comp.sys.mac.hardware']\n",
    "categories_rec=['rec.autos', 'rec.motorcycles', 'rec.sport.baseball', 'rec.sport.hockey']\n",
    "computer_train=datasets.fetch_20newsgroups(subset = 'train', categories = categories_computer, shuffle = True, random_state = None).data\n",
    "computer_test=datasets.fetch_20newsgroups(subset = 'test', categories = categories_computer, shuffle = True, random_state = None).data\n",
    "recreation_train=datasets.fetch_20newsgroups(subset = 'train', categories = categories_rec, shuffle = True, random_state = None).data\n",
    "recreation_test=datasets.fetch_20newsgroups(subset = 'test', categories = categories_rec, shuffle = True, random_state = None).data"
   ]
  },
  {
   "cell_type": "code",
   "execution_count": 6,
   "metadata": {},
   "outputs": [
    {
     "name": "stdout",
     "output_type": "stream",
     "text": [
      "(7882,)\n"
     ]
    }
   ],
   "source": [
    "#implement new dataset cont'd: combine train and test together and save as X_overall\n",
    "X_train=computer_train+recreation_train\n",
    "X_test=computer_test+recreation_test\n",
    "X_overall=X_train+X_test\n",
    "Y_train=[1]*len(computer_train)+[0]*len(recreation_train)\n",
    "Y_test=[1]*len(computer_test)+[0]*len(recreation_test)\n",
    "print(np.shape(X_overall))"
   ]
  },
  {
   "cell_type": "code",
   "execution_count": 7,
   "metadata": {
    "collapsed": true
   },
   "outputs": [],
   "source": [
    "#Lemmatization\n",
    "processed_train_data=preprocessing(X_overall)\n"
   ]
  },
  {
   "cell_type": "code",
   "execution_count": 8,
   "metadata": {
    "collapsed": true
   },
   "outputs": [],
   "source": [
    "#Vectorization\n",
    "data_vec=vectorizer.fit_transform(processed_train_data)\n"
   ]
  },
  {
   "cell_type": "code",
   "execution_count": 9,
   "metadata": {
    "collapsed": true
   },
   "outputs": [],
   "source": [
    "#TdIdf\n",
    "from sklearn.feature_extraction.text import TfidfTransformer\n",
    "TdT=TfidfTransformer()\n",
    "data_vec_ti=TdT.fit_transform(data_vec)\n",
    "\n",
    "\n"
   ]
  },
  {
   "cell_type": "markdown",
   "metadata": {},
   "source": [
    "# Question 3\n",
    "Dimensionality Reduction"
   ]
  },
  {
   "cell_type": "code",
   "execution_count": 10,
   "metadata": {},
   "outputs": [
    {
     "name": "stdout",
     "output_type": "stream",
     "text": [
      "(7882, 50)\n"
     ]
    }
   ],
   "source": [
    "#LSI\n",
    "from sklearn.decomposition import TruncatedSVD\n",
    "transformer=TruncatedSVD(n_components=50)\n",
    "data_svd=transformer.fit_transform(data_vec_ti)\n",
    "print(np.shape(data_svd))\n"
   ]
  },
  {
   "cell_type": "code",
   "execution_count": 11,
   "metadata": {},
   "outputs": [
    {
     "name": "stdout",
     "output_type": "stream",
     "text": [
      "(7882, 50)\n",
      "<type 'numpy.ndarray'>\n"
     ]
    }
   ],
   "source": [
    "#nmf\n",
    "from sklearn.decomposition import NMF\n",
    "nmf=NMF(n_components=50)\n",
    "data_nmf=nmf.fit_transform(data_vec_ti)\n",
    "print(np.shape(data_nmf))\n",
    "print(type(data_svd))"
   ]
  },
  {
   "cell_type": "code",
   "execution_count": 11,
   "metadata": {},
   "outputs": [
    {
     "name": "stdout",
     "output_type": "stream",
     "text": [
      "<class 'numpy.matrix'>\n",
      "(7882, 21423)\n"
     ]
    },
    {
     "ename": "KeyboardInterrupt",
     "evalue": "",
     "output_type": "error",
     "traceback": [
      "\u001b[0;31m---------------------------------------------------------------------------\u001b[0m",
      "\u001b[0;31mKeyboardInterrupt\u001b[0m                         Traceback (most recent call last)",
      "\u001b[0;32m<ipython-input-11-ca9ee0f07baf>\u001b[0m in \u001b[0;36m<module>\u001b[0;34m()\u001b[0m\n\u001b[1;32m      9\u001b[0m \u001b[0;32mprint\u001b[0m\u001b[0;34m(\u001b[0m\u001b[0mtype\u001b[0m\u001b[0;34m(\u001b[0m\u001b[0mdif\u001b[0m\u001b[0;34m)\u001b[0m\u001b[0;34m)\u001b[0m\u001b[0;34m\u001b[0m\u001b[0m\n\u001b[1;32m     10\u001b[0m \u001b[0;32mprint\u001b[0m\u001b[0;34m(\u001b[0m\u001b[0mnp\u001b[0m\u001b[0;34m.\u001b[0m\u001b[0mshape\u001b[0m\u001b[0;34m(\u001b[0m\u001b[0mdif\u001b[0m\u001b[0;34m)\u001b[0m\u001b[0;34m)\u001b[0m\u001b[0;34m\u001b[0m\u001b[0m\n\u001b[0;32m---> 11\u001b[0;31m \u001b[0merror_lsi\u001b[0m\u001b[0;34m=\u001b[0m\u001b[0mnp\u001b[0m\u001b[0;34m.\u001b[0m\u001b[0msqrt\u001b[0m\u001b[0;34m(\u001b[0m\u001b[0mnp\u001b[0m\u001b[0;34m.\u001b[0m\u001b[0mtrace\u001b[0m\u001b[0;34m(\u001b[0m\u001b[0mnp\u001b[0m\u001b[0;34m.\u001b[0m\u001b[0mdot\u001b[0m\u001b[0;34m(\u001b[0m\u001b[0mdif\u001b[0m\u001b[0;34m.\u001b[0m\u001b[0mT\u001b[0m\u001b[0;34m,\u001b[0m\u001b[0mdif\u001b[0m\u001b[0;34m)\u001b[0m\u001b[0;34m)\u001b[0m\u001b[0;34m)\u001b[0m\u001b[0;34m\u001b[0m\u001b[0m\n\u001b[0m\u001b[1;32m     12\u001b[0m \u001b[0;32mprint\u001b[0m\u001b[0;34m(\u001b[0m\u001b[0;34m'LSI error:'\u001b[0m\u001b[0;34m)\u001b[0m\u001b[0;34m\u001b[0m\u001b[0m\n\u001b[1;32m     13\u001b[0m \u001b[0;32mprint\u001b[0m\u001b[0;34m(\u001b[0m\u001b[0merror_lsi\u001b[0m\u001b[0;34m)\u001b[0m\u001b[0;34m\u001b[0m\u001b[0m\n",
      "\u001b[0;31mKeyboardInterrupt\u001b[0m: "
     ]
    }
   ],
   "source": [
    "#error\n",
    "xhat=np.dot(data_svd,transformer.components_)\n",
    "\n",
    "data_mat=data_vec_ti.todense()\n",
    "data_ar=data_mat.getA()\n",
    "\n",
    "dif=xhat-data_mat\n",
    "error=0\n",
    "print(type(dif))\n",
    "print(np.shape(dif))\n",
    "error_lsi=np.sqrt(np.trace(np.dot(dif.T,dif)))\n",
    "print('LSI error:')\n",
    "print(error_lsi)\n",
    "\n",
    "nmf_div=nmf.reconstruction_err_\n",
    "print('NMF error:')\n",
    "print(nmf_div)"
   ]
  },
  {
   "cell_type": "markdown",
   "metadata": {},
   "source": [
    "# Question 4 SVM\n"
   ]
  },
  {
   "cell_type": "markdown",
   "metadata": {},
   "source": [
    "# Train two SVM with gamma as 0.0001 and 1000"
   ]
  },
  {
   "cell_type": "code",
   "execution_count": 12,
   "metadata": {
    "collapsed": true
   },
   "outputs": [],
   "source": [
    "#SVM\n",
    "from sklearn import svm\n",
    "from sklearn import metrics\n",
    "from sklearn.model_selection import cross_val_score\n",
    "\n",
    "def SVM_model(X_train, Y_train, X_test, Y_test, gamma):\n",
    "    SVM_classifier=svm.SVC(C=gamma, gamma='auto')\n",
    "    SVM_classifier.fit(X_train,Y_train)\n",
    "    predict_target=SVM_classifier.predict(X_test)\n",
    "    predict_score=SVM_classifier.decision_function(X_test)\n",
    "    FPR, TPR, threshold=metrics.roc_curve(Y_test,predict_score)\n",
    "    cvs=cross_val_score(SVM_classifier,X_train, Y_train, cv=5)\n",
    "    cvs=np.average(cvs)\n",
    "    print('gamma is %f' %gamma)\n",
    "    print('5-fold cross validation score is %f' %(np.average(cvs)))\n",
    "    return (predict_target, predict_score, FPR, TPR, threshold, cvs)\n",
    "\n",
    "#Model Metrics\n",
    "def evaluation(Y_predict, Y_test, FPR, TPR):\n",
    "    confusion_matrix=metrics.confusion_matrix(Y_test,Y_predict)\n",
    "    accuracy=metrics.accuracy_score(Y_test, Y_predict)\n",
    "    recall=metrics.recall_score(Y_test, Y_predict, average='binary')\n",
    "    precision=metrics.precision_score(Y_test, Y_predict, average='binary')\n",
    "    f1_score=metrics.f1_score(Y_test, Y_predict, average='binary')\n",
    "    roc=metrics.auc(FPR, TPR)\n",
    "    plt.plot(FPR,TPR, lw=2, label='area under vurve= %0.4f' % roc)\n",
    "    plt.show()\n",
    "    print('Confusion matrix is: ')\n",
    "    print(confusion_matrix)\n",
    "    print('accuracy: %f' % accuracy)\n",
    "    print('recall: %f' % recall)\n",
    "    print('precision: %f' % precision)\n",
    "    print('f1_score: %f' % f1_score)\n",
    "    "
   ]
  },
  {
   "cell_type": "code",
   "execution_count": 13,
   "metadata": {},
   "outputs": [
    {
     "name": "stdout",
     "output_type": "stream",
     "text": [
      "(4732, 50)\n",
      "(3150, 50)\n"
     ]
    }
   ],
   "source": [
    "X_train_tf=data_svd[0:len(X_train)]\n",
    "print(np.shape(X_train_tf))\n",
    "X_test_tf=data_svd[len(X_train):]\n",
    "print(np.shape(X_test_tf))\n"
   ]
  },
  {
   "cell_type": "code",
   "execution_count": 14,
   "metadata": {},
   "outputs": [
    {
     "name": "stdout",
     "output_type": "stream",
     "text": [
      "gamma is 0.000100\n",
      "5-fold cross validation score is 0.504861\n"
     ]
    },
    {
     "name": "stderr",
     "output_type": "stream",
     "text": [
      "/Users/ethanwang/anaconda2/lib/python2.7/site-packages/sklearn/metrics/classification.py:1135: UndefinedMetricWarning: Precision is ill-defined and being set to 0.0 due to no predicted samples.\n",
      "  'precision', 'predicted', average, warn_for)\n",
      "/Users/ethanwang/anaconda2/lib/python2.7/site-packages/sklearn/metrics/classification.py:1135: UndefinedMetricWarning: F-score is ill-defined and being set to 0.0 due to no predicted samples.\n",
      "  'precision', 'predicted', average, warn_for)\n"
     ]
    },
    {
     "data": {
      "image/png": "[encoded data removed]",
      "text/plain": [
       "<matplotlib.figure.Figure at 0x103df5bd0>"
      ]
     },
     "metadata": {},
     "output_type": "display_data"
    },
    {
     "name": "stdout",
     "output_type": "stream",
     "text": [
      "Confusion matrix is: \n",
      "[[1590    0]\n",
      " [1560    0]]\n",
      "accuracy: 0.504762\n",
      "recall: 0.000000\n",
      "precision: 0.000000\n",
      "f1_score: 0.000000\n"
     ]
    }
   ],
   "source": [
    "#SVM\n",
    "#gamma=0.0001: soft margin\n",
    "\n",
    "predict_target,predict_score,FPR, TPR, threshold, cv_score=SVM_model(X_train_tf, Y_train, X_test_tf, Y_test,0.0001 )\n",
    "evaluation(predict_target, Y_test,  FPR, TPR)\n"
   ]
  },
  {
   "cell_type": "code",
   "execution_count": 15,
   "metadata": {},
   "outputs": [
    {
     "name": "stdout",
     "output_type": "stream",
     "text": [
      "gamma is 1000.000000\n",
      "5-fold cross validation score is 0.976122\n"
     ]
    },
    {
     "data": {
      "image/png": "[encoded data removed]",
      "text/plain": [
       "<matplotlib.figure.Figure at 0x1033e9750>"
      ]
     },
     "metadata": {},
     "output_type": "display_data"
    },
    {
     "name": "stdout",
     "output_type": "stream",
     "text": [
      "Confusion matrix is: \n",
      "[[1555   35]\n",
      " [  42 1518]]\n",
      "accuracy: 0.975556\n",
      "recall: 0.973077\n",
      "precision: 0.977463\n",
      "f1_score: 0.975265\n"
     ]
    }
   ],
   "source": [
    "#SVM\n",
    "#gamma=1000: hard margin\n",
    "\n",
    "predict_target,predict_score,FPR, TPR, threshold, cv_score=SVM_model(X_train_tf, Y_train, X_test_tf, Y_test,1000 )\n",
    "evaluation(predict_target, Y_test, FPR, TPR)\n"
   ]
  },
  {
   "cell_type": "markdown",
   "metadata": {},
   "source": [
    "#Use cross validation to find best gamma from 10^-3 to 10^3, integer \n"
   ]
  },
  {
   "cell_type": "code",
   "execution_count": 16,
   "metadata": {
    "scrolled": false
   },
   "outputs": [
    {
     "name": "stdout",
     "output_type": "stream",
     "text": [
      "No. 1\n",
      "gamma is 0.001000\n",
      "5-fold cross validation score is 0.504861\n"
     ]
    },
    {
     "data": {
      "image/png": "[encoded data removed]",
      "text/plain": [
       "<matplotlib.figure.Figure at 0x1186d40d0>"
      ]
     },
     "metadata": {},
     "output_type": "display_data"
    },
    {
     "name": "stdout",
     "output_type": "stream",
     "text": [
      "Confusion matrix is: \n",
      "[[1590    0]\n",
      " [1560    0]]\n",
      "accuracy: 0.504762\n",
      "recall: 0.000000\n",
      "precision: 0.000000\n",
      "f1_score: 0.000000\n",
      "No. 2\n",
      "gamma is 0.010000\n",
      "5-fold cross validation score is 0.504861\n"
     ]
    },
    {
     "data": {
      "image/png": "[encoded data removed]",
      "text/plain": [
       "<matplotlib.figure.Figure at 0x10f54df50>"
      ]
     },
     "metadata": {},
     "output_type": "display_data"
    },
    {
     "name": "stdout",
     "output_type": "stream",
     "text": [
      "Confusion matrix is: \n",
      "[[1590    0]\n",
      " [1560    0]]\n",
      "accuracy: 0.504762\n",
      "recall: 0.000000\n",
      "precision: 0.000000\n",
      "f1_score: 0.000000\n",
      "No. 3\n",
      "gamma is 0.100000\n",
      "5-fold cross validation score is 0.504861\n"
     ]
    },
    {
     "data": {
      "image/png": "[encoded data removed]",
      "text/plain": [
       "<matplotlib.figure.Figure at 0x10f5680d0>"
      ]
     },
     "metadata": {},
     "output_type": "display_data"
    },
    {
     "name": "stdout",
     "output_type": "stream",
     "text": [
      "Confusion matrix is: \n",
      "[[1590    0]\n",
      " [1560    0]]\n",
      "accuracy: 0.504762\n",
      "recall: 0.000000\n",
      "precision: 0.000000\n",
      "f1_score: 0.000000\n",
      "No. 4\n",
      "gamma is 1.000000\n",
      "5-fold cross validation score is 0.955837\n"
     ]
    },
    {
     "data": {
      "image/png": "[encoded data removed]",
      "text/plain": [
       "<matplotlib.figure.Figure at 0x10f60d410>"
      ]
     },
     "metadata": {},
     "output_type": "display_data"
    },
    {
     "name": "stdout",
     "output_type": "stream",
     "text": [
      "Confusion matrix is: \n",
      "[[1574   16]\n",
      " [ 127 1433]]\n",
      "accuracy: 0.954603\n",
      "recall: 0.918590\n",
      "precision: 0.988958\n",
      "f1_score: 0.952476\n",
      "No. 5\n",
      "gamma is 10.000000\n",
      "5-fold cross validation score is 0.973165\n"
     ]
    },
    {
     "data": {
      "image/png": "[encoded data removed]",
      "text/plain": [
       "<matplotlib.figure.Figure at 0x10f637710>"
      ]
     },
     "metadata": {},
     "output_type": "display_data"
    },
    {
     "name": "stdout",
     "output_type": "stream",
     "text": [
      "Confusion matrix is: \n",
      "[[1554   36]\n",
      " [  57 1503]]\n",
      "accuracy: 0.970476\n",
      "recall: 0.963462\n",
      "precision: 0.976608\n",
      "f1_score: 0.969990\n",
      "No. 6\n",
      "gamma is 100.000000\n",
      "5-fold cross validation score is 0.974643\n"
     ]
    },
    {
     "data": {
      "image/png": "[encoded data removed]",
      "text/plain": [
       "<matplotlib.figure.Figure at 0x10f7c34d0>"
      ]
     },
     "metadata": {},
     "output_type": "display_data"
    },
    {
     "name": "stdout",
     "output_type": "stream",
     "text": [
      "Confusion matrix is: \n",
      "[[1559   31]\n",
      " [  53 1507]]\n",
      "accuracy: 0.973333\n",
      "recall: 0.966026\n",
      "precision: 0.979844\n",
      "f1_score: 0.972886\n",
      "No. 7\n",
      "gamma is 1000.000000\n",
      "5-fold cross validation score is 0.976122\n"
     ]
    },
    {
     "data": {
      "image/png": "[encoded data removed]",
      "text/plain": [
       "<matplotlib.figure.Figure at 0x10f7dd390>"
      ]
     },
     "metadata": {},
     "output_type": "display_data"
    },
    {
     "name": "stdout",
     "output_type": "stream",
     "text": [
      "Confusion matrix is: \n",
      "[[1555   35]\n",
      " [  42 1518]]\n",
      "accuracy: 0.975556\n",
      "recall: 0.973077\n",
      "precision: 0.977463\n",
      "f1_score: 0.975265\n",
      "The model with the best validation score is the model with gamma as 1000.000000 and cross validation score is 0.976122\n"
     ]
    }
   ],
   "source": [
    "cv_max=0\n",
    "gamma_best=0\n",
    "\n",
    "for i in range(-3,4):\n",
    "    print('No. %i' %(i+4))\n",
    "    predict_target,predict_score,FPR, TPR, threshold, cv_score=SVM_model(X_train_tf, Y_train, X_test_tf, Y_test,10**i )\n",
    "    evaluation(predict_target, Y_test, FPR, TPR)\n",
    "    if cv_score>cv_max:\n",
    "        cv_max=cv_score\n",
    "        gamma_best=10**i\n",
    "print('The model with the best validation score is the model with gamma as %f and cross validation score is %f' \n",
    "      %(gamma_best,cv_max))\n",
    "\n",
    "\n"
   ]
  },
  {
   "cell_type": "code",
   "execution_count": 59,
   "metadata": {},
   "outputs": [
    {
     "name": "stdout",
     "output_type": "stream",
     "text": [
      "The model with the best validation score is the model with gamma as 1000.000000 and cross validation score is 0.976122\n"
     ]
    }
   ],
   "source": []
  }
 ],
 "metadata": {
  "kernelspec": {
   "display_name": "Python 3",
   "language": "python",
   "name": "python3"
  },
  "language_info": {
   "codemirror_mode": {
    "name": "ipython",
    "version": 2
   },
   "file_extension": ".py",
   "mimetype": "text/x-python",
   "name": "python",
   "nbconvert_exporter": "python",
   "pygments_lexer": "ipython2",
   "version": "2.7.3"
  }
 },
 "nbformat": 4,
 "nbformat_minor": 2
}
