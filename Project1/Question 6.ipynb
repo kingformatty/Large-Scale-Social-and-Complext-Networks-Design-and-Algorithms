{
 "cells": [
  {
   "cell_type": "code",
   "execution_count": 1,
   "metadata": {
    "collapsed": true
   },
   "outputs": [],
   "source": [
    "import numpy as np\n",
    "np.random.seed(42)\n",
    "import random\n",
    "random.seed(42)\n",
    "from sklearn import datasets\n",
    "import matplotlib.pyplot as plt"
   ]
  },
  {
   "cell_type": "code",
   "execution_count": 2,
   "metadata": {
    "collapsed": true
   },
   "outputs": [],
   "source": [
    "categories = ['comp.graphics', 'comp.os.ms-windows.misc', 'comp.sys.ibm.pc.hardware', 'comp.sys.mac.hardware', 'rec.autos', 'rec.motorcycles', 'rec.sport.baseball', 'rec.sport.hockey']\n",
    "train_dataset = datasets.fetch_20newsgroups(subset = 'train', categories = categories, shuffle = True, random_state = None)\n",
    "test_dataset = datasets.fetch_20newsgroups(subset = 'test', categories = categories, shuffle = True, random_state = None)"
   ]
  },
  {
   "cell_type": "code",
   "execution_count": 3,
   "metadata": {},
   "outputs": [
    {
     "name": "stdout",
     "output_type": "stream",
     "text": [
      "number of stop_words in sklearn text:318\n"
     ]
    }
   ],
   "source": [
    "from nltk import WordNetLemmatizer\n",
    "from nltk import pos_tag\n",
    "import nltk\n",
    "from nltk.corpus import wordnet\n",
    "from sklearn.feature_extraction import text\n",
    "from sklearn.feature_extraction.text import CountVectorizer\n",
    "#Define Stopwords, here we use stopwords in text package\n",
    "stop_words=text.ENGLISH_STOP_WORDS\n",
    "print(\"number of stop_words in sklearn text:%s\" % len(stop_words))"
   ]
  },
  {
   "cell_type": "code",
   "execution_count": 4,
   "metadata": {
    "collapsed": true
   },
   "outputs": [],
   "source": [
    "#Lemmatization\n",
    "lemmatizer=WordNetLemmatizer()\n",
    "#Define lemmatizer pos_tag to deal with adj, verb, noun and adv separately\n",
    "def get_wordnet_pos(word):\n",
    "    \"\"\"Map POS tag to first character lemmatize() accepts\"\"\"\n",
    "    tag = nltk.pos_tag([word])[0][1][0].upper()\n",
    "    tag_dict = {\"J\": wordnet.ADJ,\n",
    "                \"N\": wordnet.NOUN,\n",
    "                \"V\": wordnet.VERB,\n",
    "                \"R\": wordnet.ADV}\n",
    "\n",
    "    return tag_dict.get(tag, wordnet.NOUN)\n",
    "\n",
    "#Preprocessing: exclude some symbols and numbers in each sentence\n",
    "exclude_sign=\"~#$%^&*(){}[]<>|+=1234567890\"\n",
    "replace_sign=\"@,.?!-;\"\n",
    "def preprocessing(data):\n",
    "    processed_sentence=[]\n",
    "    for i in range(len(data)):\n",
    "        sentence=data[i]\n",
    "        for c in exclude_sign:\n",
    "            sentence=sentence.replace(c,\"\")\n",
    "        for c in replace_sign:\n",
    "            sentence=sentence.replace(c,\" \")\n",
    "        processed_token=[lemmatizer.lemmatize(w,get_wordnet_pos(w)) for w in nltk.word_tokenize(sentence)]\n",
    "        processed_sentence.append(\" \".join(processed_token))\n",
    "    return processed_sentence\n",
    "#Training\n",
    "\n",
    "vectorizer=CountVectorizer(stop_words='english',min_df=3)"
   ]
  },
  {
   "cell_type": "code",
   "execution_count": 5,
   "metadata": {
    "collapsed": true
   },
   "outputs": [],
   "source": [
    "#implement new dataset\n",
    "categories_computer=['comp.graphics', 'comp.os.ms-windows.misc', 'comp.sys.ibm.pc.hardware', 'comp.sys.mac.hardware']\n",
    "categories_rec=['rec.autos', 'rec.motorcycles', 'rec.sport.baseball', 'rec.sport.hockey']\n",
    "computer_train=datasets.fetch_20newsgroups(subset = 'train', categories = categories_computer, shuffle = True, random_state = None).data\n",
    "computer_test=datasets.fetch_20newsgroups(subset = 'test', categories = categories_computer, shuffle = True, random_state = None).data\n",
    "recreation_train=datasets.fetch_20newsgroups(subset = 'train', categories = categories_rec, shuffle = True, random_state = None).data\n",
    "recreation_test=datasets.fetch_20newsgroups(subset = 'test', categories = categories_rec, shuffle = True, random_state = None).data"
   ]
  },
  {
   "cell_type": "code",
   "execution_count": 6,
   "metadata": {},
   "outputs": [
    {
     "name": "stdout",
     "output_type": "stream",
     "text": [
      "(7882,)\n"
     ]
    }
   ],
   "source": [
    "#implement new dataset cont'd: combine train and test together and save as X_overall\n",
    "X_train=computer_train+recreation_train\n",
    "X_test=computer_test+recreation_test\n",
    "X_overall=X_train+X_test\n",
    "Y_train=[1]*len(computer_train)+[0]*len(recreation_train)\n",
    "Y_test=[1]*len(computer_test)+[0]*len(recreation_test)\n",
    "print(np.shape(X_overall))"
   ]
  },
  {
   "cell_type": "code",
   "execution_count": 7,
   "metadata": {
    "collapsed": true
   },
   "outputs": [],
   "source": [
    "#Lemmatization\n",
    "processed_train_data=preprocessing(X_overall)\n",
    "\n",
    "\n"
   ]
  },
  {
   "cell_type": "code",
   "execution_count": 9,
   "metadata": {
    "collapsed": true
   },
   "outputs": [],
   "source": [
    "#Vectorization\n",
    "data_vec=vectorizer.fit_transform(processed_train_data)\n",
    "\n",
    "\n"
   ]
  },
  {
   "cell_type": "code",
   "execution_count": 10,
   "metadata": {
    "collapsed": true
   },
   "outputs": [],
   "source": [
    "#TdIdf\n",
    "from sklearn.feature_extraction.text import TfidfTransformer\n",
    "TdT=TfidfTransformer()\n",
    "data_vec_ti=TdT.fit_transform(data_vec)\n",
    "\n",
    "\n"
   ]
  },
  {
   "cell_type": "code",
   "execution_count": 11,
   "metadata": {},
   "outputs": [
    {
     "name": "stdout",
     "output_type": "stream",
     "text": [
      "(7882, 50)\n"
     ]
    }
   ],
   "source": [
    "#LSI\n",
    "from sklearn.decomposition import TruncatedSVD\n",
    "transformer=TruncatedSVD(n_components=50)\n",
    "data_svd=transformer.fit_transform(data_vec_ti)\n",
    "print(np.shape(data_svd))\n",
    "\n",
    "\n"
   ]
  },
  {
   "cell_type": "code",
   "execution_count": 12,
   "metadata": {},
   "outputs": [
    {
     "name": "stdout",
     "output_type": "stream",
     "text": [
      "(7882, 50)\n",
      "<type 'numpy.ndarray'>\n"
     ]
    }
   ],
   "source": [
    "#nmf\n",
    "from sklearn.decomposition import NMF\n",
    "nmf=NMF(n_components=50)\n",
    "data_nmf=nmf.fit_transform(data_vec_ti)\n",
    "print(np.shape(data_nmf))\n",
    "print(type(data_svd))"
   ]
  },
  {
   "cell_type": "code",
   "execution_count": 13,
   "metadata": {},
   "outputs": [
    {
     "name": "stdout",
     "output_type": "stream",
     "text": [
      "<class 'numpy.matrix'>\n",
      "(7882, 21423)\n",
      "LSI error:\n",
      "83.3838947603005\n",
      "NMF error:\n",
      "83.68714377746208\n"
     ]
    }
   ],
   "source": [
    "#error\n",
    "xhat=np.dot(data_svd,transformer.components_)\n",
    "\n",
    "data_mat=data_vec_ti.todense()\n",
    "data_ar=data_mat.getA()\n",
    "\n",
    "dif=xhat-data_mat\n",
    "error=0\n",
    "print(type(dif))\n",
    "print(np.shape(dif))\n",
    "error_lsi=np.sqrt(np.trace(np.dot(dif.T,dif)))\n",
    "print('LSI error:')\n",
    "print(error_lsi)\n",
    "\n",
    "nmf_div=nmf.reconstruction_err_\n",
    "print('NMF error:')\n",
    "print(nmf_div)"
   ]
  },
  {
   "cell_type": "code",
   "execution_count": 14,
   "metadata": {},
   "outputs": [
    {
     "name": "stdout",
     "output_type": "stream",
     "text": [
      "(4732, 50)\n",
      "(3150, 50)\n"
     ]
    }
   ],
   "source": [
    "X_train_tf=data_svd[0:len(X_train)]\n",
    "print(np.shape(X_train_tf))\n",
    "X_test_tf=data_svd[len(X_train):]\n",
    "print(np.shape(X_test_tf))"
   ]
  },
  {
   "cell_type": "markdown",
   "metadata": {},
   "source": [
    "# Questioni 6\n",
    "Naive Bayes"
   ]
  },
  {
   "cell_type": "code",
   "execution_count": 24,
   "metadata": {
    "collapsed": true
   },
   "outputs": [],
   "source": [
    "from sklearn.naive_bayes import GaussianNB\n",
    "from sklearn import metrics\n",
    "\n",
    "def naive_Gaussian_model(X_train, Y_train, X_test, Y_test):\n",
    "    Gaussian_classifier=GaussianNB()\n",
    "    Gaussian_classifier.fit(X_train, Y_train)\n",
    "    predict_target=Gaussian_classifier.predict(X_test)\n",
    "    #print('predict_score from decision function is')\n",
    "    #print(predict_score)\n",
    "    #print('predict_score_1 from predict_proba is ')\n",
    "    predict_score_1=Gaussian_classifier.predict_proba(X_test)  \n",
    "    FPR, TPR, threshold=metrics.roc_curve(Y_test,predict_score_1[:,1])\n",
    "    return (predict_target, predict_score_1, FPR, TPR, threshold)"
   ]
  },
  {
   "cell_type": "code",
   "execution_count": 20,
   "metadata": {
    "collapsed": true
   },
   "outputs": [],
   "source": [
    "#Evalutation\n",
    "\n",
    "#Model Metrics\n",
    "def evaluation(Y_predict, Y_test, FPR, TPR):\n",
    "    confusion_matrix=metrics.confusion_matrix(Y_test,Y_predict)\n",
    "    accuracy=metrics.accuracy_score(Y_test, Y_predict)\n",
    "    recall=metrics.recall_score(Y_test, Y_predict, average='binary')\n",
    "    precision=metrics.precision_score(Y_test, Y_predict, average='binary')\n",
    "    f1_score=metrics.f1_score(Y_test, Y_predict, average='binary')\n",
    "    roc=metrics.auc(FPR, TPR)\n",
    "    plt.plot(FPR,TPR, lw=2, label='area under vurve= %0.4f' % roc)\n",
    "    plt.show()\n",
    "    print('Confusion matrix is: ')\n",
    "    print(confusion_matrix)\n",
    "    print('accuracy: %f' % accuracy)\n",
    "    print('recall: %f' % recall)\n",
    "    print('precision: %f' % precision)\n",
    "    print('f1_score: %f' % f1_score)"
   ]
  },
  {
   "cell_type": "code",
   "execution_count": 25,
   "metadata": {},
   "outputs": [
    {
     "data": {
      "image/png": "[encoded data removed]",
      "text/plain": [
       "<matplotlib.figure.Figure at 0x121288f90>"
      ]
     },
     "metadata": {},
     "output_type": "display_data"
    },
    {
     "name": "stdout",
     "output_type": "stream",
     "text": [
      "Confusion matrix is: \n",
      "[[1487  103]\n",
      " [ 160 1400]]\n",
      "accuracy: 0.916508\n",
      "recall: 0.897436\n",
      "precision: 0.931470\n",
      "f1_score: 0.914136\n"
     ]
    }
   ],
   "source": [
    "predict_target, predict_score, FPR, TPR, threshold= naive_Gaussian_model(X_train_tf, Y_train, X_test_tf, Y_test)\n",
    "evaluation(predict_target, Y_test, FPR, TPR)"
   ]
  }
 ],
 "metadata": {
  "kernelspec": {
   "display_name": "Python 3",
   "language": "python",
   "name": "python3"
  },
  "language_info": {
   "codemirror_mode": {
    "name": "ipython",
    "version": 3
   },
   "file_extension": ".py",
   "mimetype": "text/x-python",
   "name": "python",
   "nbconvert_exporter": "python",
   "pygments_lexer": "ipython3",
   "version": "3.6.4"
  }
 },
 "nbformat": 4,
 "nbformat_minor": 2
}
