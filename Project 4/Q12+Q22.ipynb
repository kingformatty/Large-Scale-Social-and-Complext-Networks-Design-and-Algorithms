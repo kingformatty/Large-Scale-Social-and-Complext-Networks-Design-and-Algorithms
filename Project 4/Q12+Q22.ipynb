{
 "cells": [
  {
   "cell_type": "code",
   "execution_count": 30,
   "metadata": {},
   "outputs": [],
   "source": [
    "import numpy as np\n",
    "import pandas as pd\n",
    "import seaborn as sns\n",
    "#from seaborn import stripplot\n",
    "import matplotlib.pyplot as plt\n",
    "from sklearn import preprocessing\n",
    "from sklearn.preprocessing import StandardScaler\n",
    "from sklearn.feature_selection import mutual_info_regression\n",
    "from sklearn.feature_selection import f_regression\n",
    "\n",
    "from sklearn.linear_model import LinearRegression\n",
    "from sklearn.linear_model import Ridge\n",
    "from sklearn.linear_model import Lasso\n",
    "from sklearn.model_selection import KFold\n",
    "from sklearn.model_selection import train_test_split\n",
    "\n",
    "from sklearn.ensemble import RandomForestRegressor\n",
    "from sklearn.tree import export_graphviz\n",
    "import os"
   ]
  },
  {
   "cell_type": "code",
   "execution_count": 31,
   "metadata": {},
   "outputs": [],
   "source": [
    "# Bike sharing dataset"
   ]
  },
  {
   "cell_type": "code",
   "execution_count": 32,
   "metadata": {},
   "outputs": [],
   "source": [
    "file = \"day.csv\"\n",
    "data_pd = pd.read_csv(file)\n",
    "data = data_pd.iloc[:, 2:13]\n",
    "data_mat = data.values\n",
    "#print(data)\n",
    "attrs = data.columns"
   ]
  },
  {
   "cell_type": "code",
   "execution_count": 33,
   "metadata": {},
   "outputs": [],
   "source": [
    "def standardize(X, y):\n",
    "    scalar = StandardScaler()\n",
    "    X_norm = scalar.fit_transform(X, y)\n",
    "    y_norm = preprocessing.scale(y)\n",
    "    return X_norm, y_norm\n"
   ]
  },
  {
   "cell_type": "code",
   "execution_count": 34,
   "metadata": {},
   "outputs": [],
   "source": [
    "from scipy import stats\n",
    "columns = ['season','yr','mnth','holiday','weekday','workingday','weathersit','temp','atemp','hum','windspeed']\n",
    "y = data_pd['cnt'].values"
   ]
  },
  {
   "cell_type": "code",
   "execution_count": 35,
   "metadata": {},
   "outputs": [],
   "source": [
    "p_values = []\n",
    "for col in columns:\n",
    "    da = data_pd.loc[:,[col]].values.reshape(-1,)\n",
    "    slope, intercept, r_value, p_value, std_err = stats.linregress(da, y)\n",
    "    p_values.append(p_value)"
   ]
  },
  {
   "cell_type": "code",
   "execution_count": 36,
   "metadata": {},
   "outputs": [
    {
     "name": "stdout",
     "output_type": "stream",
     "text": [
      "p-value for season:     2.1339966843420126e-30\n",
      "p-value for yr:     2.4835399044514033e-63\n",
      "p-value for mnth:     1.2431117778653737e-14\n",
      "p-value for holiday:     0.06475935792611025\n",
      "p-value for weekday:     0.06839080695469145\n",
      "p-value for workingday:     0.09849496160024915\n",
      "p-value for weathersit:     2.1509758214252726e-16\n",
      "p-value for temp:     2.8106223975900516e-81\n",
      "p-value for atemp:     1.8545041252842604e-82\n",
      "p-value for hum:     0.006454143325437063\n",
      "p-value for windspeed:     1.3599586778864966e-10\n"
     ]
    }
   ],
   "source": [
    "for i in range(len(columns)):\n",
    "    print(\"p-value for \" + str(columns[i])+\":     \"+str(p_values[i]) )"
   ]
  },
  {
   "cell_type": "code",
   "execution_count": 37,
   "metadata": {},
   "outputs": [],
   "source": [
    "# video transcoding dataset"
   ]
  },
  {
   "cell_type": "code",
   "execution_count": 38,
   "metadata": {},
   "outputs": [],
   "source": [
    "file = \"data_transcoding.csv\"\n",
    "data_pd = pd.read_csv(file)\n",
    "\n",
    "data_pd2 = data_pd.replace({'codec':{'mpeg4':int(1), 'vp8':int(2), 'flv':int(3),'h264':int(4)}, 'o_codec': {'mpeg4':int(1), 'vp8':int(2), 'flv':int(3),'h264':int(4)}})\n",
    "#pearson_matrix = data_pd2.corr(method = 'pearson')\n"
   ]
  },
  {
   "cell_type": "code",
   "execution_count": 60,
   "metadata": {},
   "outputs": [],
   "source": [
    "columns = ['duration','width','codec','height','bitrate','framerate','i','p','b','frames','i_size','p_size','b_size','size','o_codec','o_bitrate','o_framerate','o_width','o_height']\n",
    "y = data_pd['utime'].values"
   ]
  },
  {
   "cell_type": "code",
   "execution_count": 61,
   "metadata": {},
   "outputs": [
    {
     "name": "stderr",
     "output_type": "stream",
     "text": [
      "D:\\Softwares\\Anaconda\\lib\\site-packages\\scipy\\stats\\_stats_mstats_common.py:130: RuntimeWarning: invalid value encountered in double_scalars\n",
      "  slope = r_num / ssxm\n",
      "D:\\Softwares\\Anaconda\\lib\\site-packages\\scipy\\stats\\_stats_mstats_common.py:142: RuntimeWarning: divide by zero encountered in double_scalars\n",
      "  sterrest = np.sqrt((1 - r**2) * ssym / ssxm / df)\n"
     ]
    }
   ],
   "source": [
    "p_values = []\n",
    "for col in columns:\n",
    "    da = data_pd2.loc[:,[col]].values.reshape(-1,)\n",
    "    slope, intercept, r_value, p_value, std_err = stats.linregress(da, y)\n",
    "    p_values.append(p_value)"
   ]
  },
  {
   "cell_type": "code",
   "execution_count": 62,
   "metadata": {},
   "outputs": [
    {
     "name": "stdout",
     "output_type": "stream",
     "text": [
      "p-value for duration:     0.14678461378191882\n",
      "p-value for width:     2.2136831049180558e-256\n",
      "p-value for codec:     2.3014724108530383e-74\n",
      "p-value for height:     5.9559228532851975e-251\n",
      "p-value for bitrate:     0.0\n",
      "p-value for framerate:     1.8895745112254943e-96\n",
      "p-value for i:     1.2381800057208499e-06\n",
      "p-value for p:     3.0476653173333007e-18\n",
      "p-value for b:     0.17768585029205902\n",
      "p-value for frames:     3.718494343072579e-18\n",
      "p-value for i_size:     9.874802660090007e-65\n",
      "p-value for p_size:     2.5415175554705015e-145\n",
      "p-value for b_size:     1.0\n",
      "p-value for size:     1.0434383038715833e-143\n",
      "p-value for o_codec:     0.0\n",
      "p-value for o_bitrate:     0.0\n",
      "p-value for o_framerate:     8.053877782509371e-165\n",
      "p-value for o_width:     0.0\n",
      "p-value for o_height:     0.0\n"
     ]
    }
   ],
   "source": [
    "for i in range(len(columns)):\n",
    "    print(\"p-value for \" + str(columns[i])+\":     \"+str(p_values[i]) )"
   ]
  },
  {
   "cell_type": "code",
   "execution_count": 42,
   "metadata": {},
   "outputs": [],
   "source": [
    "file = \"day.csv\"\n",
    "data_pd = pd.read_csv(file)\n",
    "data = data_pd.iloc[:, 2:13]\n",
    "\n",
    "X = data.values\n",
    "y = data_pd['cnt'].values\n",
    "X_norm, y_norm = standardize(X, y)"
   ]
  },
  {
   "cell_type": "code",
   "execution_count": 47,
   "metadata": {},
   "outputs": [
    {
     "data": {
      "text/plain": [
       "RandomForestRegressor(bootstrap=True, ccp_alpha=0.0, criterion='mse',\n",
       "                      max_depth=4, max_features=5, max_leaf_nodes=None,\n",
       "                      max_samples=None, min_impurity_decrease=0.0,\n",
       "                      min_impurity_split=None, min_samples_leaf=1,\n",
       "                      min_samples_split=2, min_weight_fraction_leaf=0.0,\n",
       "                      n_estimators=25, n_jobs=None, oob_score=True,\n",
       "                      random_state=None, verbose=0, warm_start=False)"
      ]
     },
     "execution_count": 47,
     "metadata": {},
     "output_type": "execute_result"
    }
   ],
   "source": [
    "random_forest = RandomForestRegressor(n_estimators=25, max_features=5, \n",
    "                                  max_depth = 4,bootstrap = True, oob_score=True)\n",
    "\n",
    "random_forest.fit(X_norm, y_norm)"
   ]
  },
  {
   "cell_type": "code",
   "execution_count": 48,
   "metadata": {},
   "outputs": [],
   "source": [
    "from sklearn.externals.six import StringIO\n",
    "import pydotplus"
   ]
  },
  {
   "cell_type": "code",
   "execution_count": 51,
   "metadata": {},
   "outputs": [
    {
     "data": {
      "text/plain": [
       "0"
      ]
     },
     "execution_count": 51,
     "metadata": {},
     "output_type": "execute_result"
    }
   ],
   "source": [
    "export_graphviz(random_forest.estimators_[5], out_file='rf.dot', feature_names=data.columns,\n",
    "                filled=True,\n",
    "                rounded=True)\n",
    "os.system('dot -Tpng rf.dot -obike_tree.png')"
   ]
  },
  {
   "cell_type": "code",
   "execution_count": 52,
   "metadata": {},
   "outputs": [],
   "source": [
    "file = \"data_transcoding.csv\"\n",
    "data_pd = pd.read_csv(file)\n",
    "\n",
    "data_pd2 = data_pd.replace({'codec':{'mpeg4':int(1), 'vp8':int(2), 'flv':int(3),'h264':int(4)}, 'o_codec': {'mpeg4':int(1), 'vp8':int(2), 'flv':int(3),'h264':int(4)}})\n",
    "#pearson_matrix = data_pd2.corr(method = 'pearson')"
   ]
  },
  {
   "cell_type": "code",
   "execution_count": 59,
   "metadata": {},
   "outputs": [],
   "source": [
    "o_width = data_pd2['o_width']\n",
    "o_height = data_pd2['o_height']\n",
    "o_width_array = np.array(o_width)\n",
    "o_height_array = np.array(o_height)\n",
    "\n",
    "o_area = []\n",
    "for i in range(o_height_array.shape[0]):\n",
    "    o_area.append(np.multiply(o_width_array[i], o_height_array[i]))\n",
    "\n",
    "o_area = np.array(o_area)\n",
    "#print(o_area.shape)\n",
    "#print(o_area)\n",
    "\n",
    "i_width = data_pd2['width']\n",
    "i_height = data_pd2['height']\n",
    "i_width_array = np.array(i_width)\n",
    "i_height_array = np.array(i_height)\n",
    "\n",
    "i_area = []\n",
    "for i in range(i_height_array.shape[0]):\n",
    "    i_area.append(np.multiply(i_width_array[i], i_height_array[i]))\n",
    "\n",
    "i_area = np.array(i_area)\n",
    "#print(i_area.shape)\n",
    "#print(i_area)\n",
    "\n",
    "data_pd2['o_area'] = o_area\n",
    "data_pd2['area'] = i_area"
   ]
  },
  {
   "cell_type": "code",
   "execution_count": 85,
   "metadata": {},
   "outputs": [],
   "source": [
    "columns = ['o_area','area','o_bitrate','size','bitrate', 'o_framerate','o_codec']"
   ]
  },
  {
   "cell_type": "code",
   "execution_count": 86,
   "metadata": {},
   "outputs": [],
   "source": [
    "data = data_pd2.loc[:, columns]\n",
    "X = data_pd2.loc[:,columns].values\n",
    "y = data_pd2['utime'].values\n",
    "X_norm, y_norm = standardize(X, y)"
   ]
  },
  {
   "cell_type": "code",
   "execution_count": 87,
   "metadata": {},
   "outputs": [
    {
     "data": {
      "text/plain": [
       "RandomForestRegressor(bootstrap=True, ccp_alpha=0.0, criterion='mse',\n",
       "                      max_depth=4, max_features=5, max_leaf_nodes=None,\n",
       "                      max_samples=None, min_impurity_decrease=0.0,\n",
       "                      min_impurity_split=None, min_samples_leaf=1,\n",
       "                      min_samples_split=2, min_weight_fraction_leaf=0.0,\n",
       "                      n_estimators=40, n_jobs=None, oob_score=True,\n",
       "                      random_state=None, verbose=0, warm_start=False)"
      ]
     },
     "execution_count": 87,
     "metadata": {},
     "output_type": "execute_result"
    }
   ],
   "source": [
    "random_forest = RandomForestRegressor(n_estimators=40, max_features=5, \n",
    "                                  max_depth = 4,bootstrap = True, oob_score=True)\n",
    "\n",
    "random_forest.fit(X_norm, y_norm)"
   ]
  },
  {
   "cell_type": "code",
   "execution_count": 88,
   "metadata": {},
   "outputs": [
    {
     "data": {
      "text/plain": [
       "0"
      ]
     },
     "execution_count": 88,
     "metadata": {},
     "output_type": "execute_result"
    }
   ],
   "source": [
    "export_graphviz(random_forest.estimators_[5], out_file='rf2.dot', feature_names=data.columns,\n",
    "                filled=True,\n",
    "                rounded=True)\n",
    "os.system('dot -Tpng rf2.dot -ovideo_tree.png')"
   ]
  },
  {
   "cell_type": "code",
   "execution_count": null,
   "metadata": {},
   "outputs": [],
   "source": []
  }
 ],
 "metadata": {
  "kernelspec": {
   "display_name": "Python 3",
   "language": "python",
   "name": "python3"
  },
  "language_info": {
   "codemirror_mode": {
    "name": "ipython",
    "version": 3
   },
   "file_extension": ".py",
   "mimetype": "text/x-python",
   "name": "python",
   "nbconvert_exporter": "python",
   "pygments_lexer": "ipython3",
   "version": "3.6.5"
  }
 },
 "nbformat": 4,
 "nbformat_minor": 2
}
