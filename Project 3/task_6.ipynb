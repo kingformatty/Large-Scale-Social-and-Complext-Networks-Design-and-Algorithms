{
 "cells": [
  {
   "cell_type": "code",
   "execution_count": 1,
   "metadata": {},
   "outputs": [],
   "source": [
    "import pandas as pd\n",
    "import os\n",
    "import numpy as np\n",
    "import pandas as pd\n",
    "from surprise import AlgoBase\n",
    "from surprise import Dataset\n",
    "from surprise import Reader\n",
    "from surprise.model_selection import cross_validate\n",
    "from surprise.model_selection.split import KFold\n",
    "from surprise import accuracy\n",
    "from sklearn.metrics import mean_squared_error"
   ]
  },
  {
   "cell_type": "code",
   "execution_count": 2,
   "metadata": {},
   "outputs": [],
   "source": [
    "class NaiveFilter(AlgoBase):\n",
    "    def __init__(self):\n",
    "        AlgoBase.__init__(self)\n",
    "    \n",
    "    def fit(self, train):\n",
    "        AlgoBase.fit(self, train)\n",
    "        self.naive_predict(train)\n",
    "        return self\n",
    "    \n",
    "    def naive_predict(self, dataset):\n",
    "        self.dataset = dataset\n",
    "        self.dict_user_mean = {}\n",
    "        self.global_mean = None\n",
    "        for user in self.dataset.ur:\n",
    "            self.dict_user_mean[user] = np.mean([r for (_, r) in self.dataset.ur[user]])\n",
    "    \n",
    "    def estimate(self, u, i):\n",
    "        if u in self.dict_user_mean:\n",
    "            return self.dict_user_mean[u]\n",
    "        else:\n",
    "            return self.trainset.global_mean"
   ]
  },
  {
   "cell_type": "code",
   "execution_count": 15,
   "metadata": {},
   "outputs": [],
   "source": [
    "def naive_trim(data, trim_type):\n",
    "    kf = KFold(n_splits=10)\n",
    "    acc_rmse = 0\n",
    "    rmse_prediction = []\n",
    "    for train, test in kf.split(data):\n",
    "        test_trim = None\n",
    "        if trim_type == \"pop\":\n",
    "            test_trim = preprocess_pop(test)\n",
    "        elif trim_type == \"unpop\":\n",
    "            test_trim = preprocess_unpop(test)\n",
    "        elif trim_type == \"high_var\":\n",
    "            test_trim = preprocess_high_var(test)\n",
    "        predictions = naive_algo.test(test_trim)\n",
    "        #y_true = [test[i][2] for i in range(len(test))]\n",
    "        #rmse_prediction.append(mean_squared_error(y_true, predictions))\n",
    "        \n",
    "        rmse_prediction.append(accuracy.rmse(predictions, verbose=False))\n",
    "    acc_rmse = np.mean(rmse_prediction)\n",
    "    print('The average RMSE is -> ' + str(acc_rmse))"
   ]
  },
  {
   "cell_type": "code",
   "execution_count": 16,
   "metadata": {},
   "outputs": [
    {
     "name": "stderr",
     "output_type": "stream",
     "text": [
      "D:\\Softwares\\Anaconda\\lib\\site-packages\\ipykernel_launcher.py:4: FutureWarning: Method .as_matrix will be removed in a future version. Use .values instead.\n",
      "  after removing the cwd from sys.path.\n"
     ]
    }
   ],
   "source": [
    "file_name = 'ratings.csv'#Please change this path into absolute path to \"ratings.csv\"\n",
    "data_raw = pd.read_csv(file_name)\n",
    "data_table = data_raw.pivot_table(values = 'rating', index = ['userId'], columns = ['movieId'], fill_value=0)\n",
    "data_mat = pd.DataFrame.as_matrix(data_table)\n",
    "movieId = list(data_table.columns)\n",
    "userId = list(data_table.index)"
   ]
  },
  {
   "cell_type": "code",
   "execution_count": 17,
   "metadata": {},
   "outputs": [],
   "source": [
    "freq_movie = np.sum(data_mat!=0, axis=0)\n",
    "pop_idx = list(np.where(freq_movie > 2))[0]\n",
    "unpop_idx = list(np.where(freq_movie <= 2))[0]\n",
    "pop_five_idx = list(np.where(freq_movie >= 5))[0]"
   ]
  },
  {
   "cell_type": "code",
   "execution_count": 18,
   "metadata": {},
   "outputs": [
    {
     "name": "stdout",
     "output_type": "stream",
     "text": [
      "4980\n",
      "4744\n",
      "40\n"
     ]
    }
   ],
   "source": [
    "pop_movie = []\n",
    "for i in range(len(pop_idx)):\n",
    "    pop_movie.append(movieId[pop_idx[i]])\n",
    "pass\n",
    "\n",
    "unpop_movie = []\n",
    "for i in range(len(unpop_idx)):\n",
    "    unpop_movie.append(movieId[unpop_idx[i]])\n",
    "pass\n",
    "\n",
    "data_mat_rm_zero = data_raw.pivot_table(values = 'rating', index = ['userId'], columns = ['movieId'])\n",
    "movie_var = np.var(data_mat_rm_zero, axis = 0)\n",
    "high_var = []\n",
    "for i in range(len(pop_five_idx)):\n",
    "    movie = pop_five_idx[i]\n",
    "    if list(movie_var)[movie] >= 2:\n",
    "        high_var.append(movieId[movie])\n",
    "\n",
    "print(len(pop_movie))\n",
    "print(len(unpop_movie))\n",
    "print(len(high_var)) "
   ]
  },
  {
   "cell_type": "code",
   "execution_count": 19,
   "metadata": {},
   "outputs": [],
   "source": [
    "def preprocess_pop(testset):\n",
    "    pop_trim_test = []\n",
    "    for i in range(len(testset)):\n",
    "        if int(testset[i][1]) in pop_movie:\n",
    "            pop_trim_test.append(testset[i])\n",
    "\n",
    "    return pop_trim_test\n",
    "\n",
    "def preprocess_unpop(testset):\n",
    "    unpop_trim_test = []\n",
    "    for i in range(len(testset)):\n",
    "        if int(testset[i][1]) in unpop_movie:\n",
    "            unpop_trim_test.append(testset[i])\n",
    "\n",
    "    return unpop_trim_test\n",
    "\n",
    "def preprocess_high_var(testset):\n",
    "    high_var_trim = []\n",
    "    for i in range(len(testset)):\n",
    "        if int(testset[i][1]) in high_var:\n",
    "            high_var_trim.append(testset[i])\n",
    "            \n",
    "    return high_var_trim"
   ]
  },
  {
   "cell_type": "code",
   "execution_count": 20,
   "metadata": {},
   "outputs": [],
   "source": [
    "file_name = 'ratings.csv'#Please change this path into absolute path to \"ratings.csv\"\n",
    "reader = Reader(line_format='user item rating', sep=',', skip_lines=1, rating_scale=(0.0, 5))\n",
    "data = Dataset.load_from_file(file_name, reader=reader)"
   ]
  },
  {
   "cell_type": "code",
   "execution_count": 21,
   "metadata": {},
   "outputs": [
    {
     "data": {
      "text/plain": [
       "<__main__.NaiveFilter at 0x211b1cfcc88>"
      ]
     },
     "execution_count": 21,
     "metadata": {},
     "output_type": "execute_result"
    }
   ],
   "source": [
    "naive_algo = NaiveFilter()\n",
    "train_all = data.build_full_trainset()\n",
    "naive_algo.fit(train_all)"
   ]
  },
  {
   "cell_type": "code",
   "execution_count": 26,
   "metadata": {},
   "outputs": [
    {
     "name": "stdout",
     "output_type": "stream",
     "text": [
      "The average RMSE is:\n",
      "0.9346883673419637\n"
     ]
    }
   ],
   "source": [
    "kf = KFold(n_splits=10)\n",
    "acc_rmse = 0\n",
    "rmse_prediction = []\n",
    "for train, test in kf.split(data):\n",
    "    predictions = naive_algo.test(test)\n",
    "    rmse_prediction.append(accuracy.rmse(predictions, verbose=False))\n",
    "acc_rmse = np.mean(rmse_prediction)\n",
    "print(\"The average RMSE is:\")\n",
    "print(acc_rmse)"
   ]
  },
  {
   "cell_type": "code",
   "execution_count": 27,
   "metadata": {},
   "outputs": [
    {
     "name": "stdout",
     "output_type": "stream",
     "text": [
      "The average RMSE is -> 0.9323220065064985\n"
     ]
    }
   ],
   "source": [
    "naive_trim(data, 'pop')"
   ]
  },
  {
   "cell_type": "code",
   "execution_count": 30,
   "metadata": {},
   "outputs": [
    {
     "name": "stdout",
     "output_type": "stream",
     "text": [
      "The average RMSE is -> 0.9705325889814593\n"
     ]
    }
   ],
   "source": [
    "naive_trim(data, 'unpop')"
   ]
  },
  {
   "cell_type": "code",
   "execution_count": 29,
   "metadata": {},
   "outputs": [
    {
     "name": "stdout",
     "output_type": "stream",
     "text": [
      "The average RMSE is -> 1.478738092572781\n"
     ]
    }
   ],
   "source": [
    "naive_trim(data, 'high_var')"
   ]
  }
 ],
 "metadata": {
  "kernelspec": {
   "display_name": "Python 3",
   "language": "python",
   "name": "python3"
  },
  "language_info": {
   "codemirror_mode": {
    "name": "ipython",
    "version": 3
   },
   "file_extension": ".py",
   "mimetype": "text/x-python",
   "name": "python",
   "nbconvert_exporter": "python",
   "pygments_lexer": "ipython3",
   "version": "3.6.4"
  }
 },
 "nbformat": 4,
 "nbformat_minor": 2
}
